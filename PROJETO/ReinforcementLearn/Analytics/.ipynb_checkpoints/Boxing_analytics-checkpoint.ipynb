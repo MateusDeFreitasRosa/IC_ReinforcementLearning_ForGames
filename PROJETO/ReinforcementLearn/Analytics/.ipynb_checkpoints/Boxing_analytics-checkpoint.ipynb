{
 "cells": [
  {
   "cell_type": "markdown",
   "id": "5860cd2b",
   "metadata": {},
   "source": [
    "# Análise dos dados obtidos no jogo Pong"
   ]
  },
  {
   "cell_type": "markdown",
   "id": "1438fad6",
   "metadata": {},
   "source": [
    "### Blob finder"
   ]
  },
  {
   "cell_type": "code",
   "execution_count": 2,
   "id": "291f2830",
   "metadata": {},
   "outputs": [
    {
     "name": "stdout",
     "output_type": "stream",
     "text": [
      "Requirement already satisfied: seaborn in c:\\ana\\envs\\reinforcementlearningoldversion\\lib\\site-packages (0.11.2)\n",
      "Requirement already satisfied: matplotlib>=2.2 in c:\\ana\\envs\\reinforcementlearningoldversion\\lib\\site-packages (from seaborn) (3.3.4)\n",
      "Requirement already satisfied: numpy>=1.15 in c:\\users\\mateus f\\appdata\\roaming\\python\\python36\\site-packages (from seaborn) (1.19.5)\n",
      "Requirement already satisfied: pandas>=0.23 in c:\\ana\\envs\\reinforcementlearningoldversion\\lib\\site-packages (from seaborn) (1.1.5)\n",
      "Requirement already satisfied: scipy>=1.0 in c:\\ana\\envs\\reinforcementlearningoldversion\\lib\\site-packages (from seaborn) (1.5.4)\n",
      "Requirement already satisfied: kiwisolver>=1.0.1 in c:\\ana\\envs\\reinforcementlearningoldversion\\lib\\site-packages (from matplotlib>=2.2->seaborn) (1.3.1)\n",
      "Requirement already satisfied: python-dateutil>=2.1 in c:\\ana\\envs\\reinforcementlearningoldversion\\lib\\site-packages (from matplotlib>=2.2->seaborn) (2.8.2)\n",
      "Requirement already satisfied: cycler>=0.10 in c:\\ana\\envs\\reinforcementlearningoldversion\\lib\\site-packages (from matplotlib>=2.2->seaborn) (0.11.0)\n",
      "Requirement already satisfied: pillow>=6.2.0 in c:\\ana\\envs\\reinforcementlearningoldversion\\lib\\site-packages (from matplotlib>=2.2->seaborn) (8.4.0)\n",
      "Requirement already satisfied: pyparsing!=2.0.4,!=2.1.2,!=2.1.6,>=2.0.3 in c:\\ana\\envs\\reinforcementlearningoldversion\\lib\\site-packages (from matplotlib>=2.2->seaborn) (3.0.4)\n",
      "Requirement already satisfied: pytz>=2017.2 in c:\\ana\\envs\\reinforcementlearningoldversion\\lib\\site-packages (from pandas>=0.23->seaborn) (2021.3)\n",
      "Requirement already satisfied: six>=1.5 in c:\\users\\mateus f\\appdata\\roaming\\python\\python36\\site-packages (from python-dateutil>=2.1->matplotlib>=2.2->seaborn) (1.16.0)\n"
     ]
    }
   ],
   "source": [
    "!pip install seaborn"
   ]
  },
  {
   "cell_type": "markdown",
   "id": "8e8505d8",
   "metadata": {},
   "source": [
    "## Definições"
   ]
  },
  {
   "cell_type": "code",
   "execution_count": 3,
   "id": "68cec874",
   "metadata": {},
   "outputs": [],
   "source": [
    "name_dfs = 'df_results.csv'\n",
    "name_dict_experiments = 'plan_experiments.txt'"
   ]
  },
  {
   "cell_type": "markdown",
   "id": "5b4c47b7",
   "metadata": {},
   "source": [
    "## Funções"
   ]
  },
  {
   "cell_type": "code",
   "execution_count": 4,
   "id": "05e6f926",
   "metadata": {},
   "outputs": [],
   "source": [
    "import pandas as pd\n",
    "import numpy as np\n",
    "import seaborn as sns\n",
    "import matplotlib.pyplot as plt\n",
    "import json"
   ]
  },
  {
   "cell_type": "code",
   "execution_count": 5,
   "id": "2654122c",
   "metadata": {},
   "outputs": [],
   "source": [
    "def get_documents(uri):\n",
    "    '''\n",
    "        uri: (str) Diretório onde se encontra o experimento que deseja ser lido.\n",
    "    '''\n",
    "    \n",
    "    df = pd.read_csv(uri+name_dfs)\n",
    "    js = json.load(open(uri+name_dict_experiments))\n",
    "    \n",
    "    return (df, js)"
   ]
  },
  {
   "cell_type": "code",
   "execution_count": 6,
   "id": "fe2944e5",
   "metadata": {},
   "outputs": [],
   "source": [
    "def summary(jsn, tab=0, specific_key=None):\n",
    "    \n",
    "    '''\n",
    "        jsn: (dict) Dicionário contendo os parâmetros do experimento.\n",
    "        tab: (int) Esse parâmetro é para realizar a identação da visualização criada. Não é necessário modifica-lo.\n",
    "        specific_key: (list) Como nossos parâmetros são compostos por map dentro de map, ou melhor, dict dentro de dict, é \n",
    "                        possível especificar um parâmetro específico do dicionário de experimento.\n",
    "    \n",
    "    '''\n",
    "    \n",
    "    \n",
    "    if specific_key != None and isinstance(specific_key, list):\n",
    "        for sk in specific_key:\n",
    "            if sk in jsn:\n",
    "                jsn = jsn[sk] if isinstance(jsn[sk], dict) else {\n",
    "                    sk: jsn[sk]\n",
    "                }\n",
    "            else:\n",
    "                print('Não existe essa key: {}'.format(sk))\n",
    "            \n",
    "    for k, v in jsn.items():\n",
    "        if isinstance(v, dict):\n",
    "            print('\\n - {}'.format(k))\n",
    "            summary(v, tab+1)\n",
    "        elif isinstance(v, list):\n",
    "            if len(v) > 0 and isinstance(v[0], dict):\n",
    "                print('\\n - {}:'.format(k))\n",
    "                for enum, vi in enumerate(v, 1):\n",
    "                    print('\\n{} > {}({}):'.format('\\t'*tab, k, enum))\n",
    "                    summary(vi, tab+1)\n",
    "            else:\n",
    "                print('{}{}: {}'.format('\\t'*tab, k, v))\n",
    "        else:\n",
    "            print('{}{}: {}'.format('\\t'*tab, k, v))"
   ]
  },
  {
   "cell_type": "markdown",
   "id": "7739d281",
   "metadata": {},
   "source": [
    "## Load datasets"
   ]
  },
  {
   "cell_type": "code",
   "execution_count": 7,
   "id": "1765f8a9",
   "metadata": {},
   "outputs": [
    {
     "data": {
      "text/plain": [
       "(991, 7)"
      ]
     },
     "execution_count": 7,
     "metadata": {},
     "output_type": "execute_result"
    }
   ],
   "source": [
    "df_boxing_v1, dict_boxing_v1 = get_documents('../experiments/Boxing-v1/')\n",
    "df_boxing_v1.shape"
   ]
  },
  {
   "cell_type": "code",
   "execution_count": 8,
   "id": "321e9496",
   "metadata": {},
   "outputs": [
    {
     "data": {
      "text/html": [
       "<div>\n",
       "<style scoped>\n",
       "    .dataframe tbody tr th:only-of-type {\n",
       "        vertical-align: middle;\n",
       "    }\n",
       "\n",
       "    .dataframe tbody tr th {\n",
       "        vertical-align: top;\n",
       "    }\n",
       "\n",
       "    .dataframe thead th {\n",
       "        text-align: right;\n",
       "    }\n",
       "</style>\n",
       "<table border=\"1\" class=\"dataframe\">\n",
       "  <thead>\n",
       "    <tr style=\"text-align: right;\">\n",
       "      <th></th>\n",
       "      <th>REWARD</th>\n",
       "      <th>TRAIN</th>\n",
       "      <th>TIME</th>\n",
       "      <th>LOSS</th>\n",
       "      <th>EXPLORATION_RATE</th>\n",
       "      <th>FPS</th>\n",
       "      <th>LR</th>\n",
       "    </tr>\n",
       "  </thead>\n",
       "  <tbody>\n",
       "    <tr>\n",
       "      <th>0</th>\n",
       "      <td>-4.0</td>\n",
       "      <td>2360.0</td>\n",
       "      <td>1.644937e+09</td>\n",
       "      <td>0.000350</td>\n",
       "      <td>0.97740</td>\n",
       "      <td>16</td>\n",
       "      <td>0.0001</td>\n",
       "    </tr>\n",
       "    <tr>\n",
       "      <th>1</th>\n",
       "      <td>1.0</td>\n",
       "      <td>4764.0</td>\n",
       "      <td>1.644937e+09</td>\n",
       "      <td>0.000285</td>\n",
       "      <td>0.95336</td>\n",
       "      <td>15</td>\n",
       "      <td>0.0001</td>\n",
       "    </tr>\n",
       "    <tr>\n",
       "      <th>2</th>\n",
       "      <td>-5.0</td>\n",
       "      <td>7143.0</td>\n",
       "      <td>1.644937e+09</td>\n",
       "      <td>0.000400</td>\n",
       "      <td>0.92957</td>\n",
       "      <td>15</td>\n",
       "      <td>0.0001</td>\n",
       "    </tr>\n",
       "    <tr>\n",
       "      <th>3</th>\n",
       "      <td>-1.0</td>\n",
       "      <td>9514.0</td>\n",
       "      <td>1.644937e+09</td>\n",
       "      <td>0.000468</td>\n",
       "      <td>0.90586</td>\n",
       "      <td>15</td>\n",
       "      <td>0.0001</td>\n",
       "    </tr>\n",
       "    <tr>\n",
       "      <th>4</th>\n",
       "      <td>1.0</td>\n",
       "      <td>11898.0</td>\n",
       "      <td>1.644938e+09</td>\n",
       "      <td>0.000496</td>\n",
       "      <td>0.88202</td>\n",
       "      <td>15</td>\n",
       "      <td>0.0001</td>\n",
       "    </tr>\n",
       "    <tr>\n",
       "      <th>...</th>\n",
       "      <td>...</td>\n",
       "      <td>...</td>\n",
       "      <td>...</td>\n",
       "      <td>...</td>\n",
       "      <td>...</td>\n",
       "      <td>...</td>\n",
       "      <td>...</td>\n",
       "    </tr>\n",
       "    <tr>\n",
       "      <th>986</th>\n",
       "      <td>38.0</td>\n",
       "      <td>1923494.0</td>\n",
       "      <td>1.645069e+09</td>\n",
       "      <td>0.009519</td>\n",
       "      <td>0.04999</td>\n",
       "      <td>14</td>\n",
       "      <td>0.0001</td>\n",
       "    </tr>\n",
       "    <tr>\n",
       "      <th>987</th>\n",
       "      <td>32.0</td>\n",
       "      <td>1925607.0</td>\n",
       "      <td>1.645069e+09</td>\n",
       "      <td>0.009189</td>\n",
       "      <td>0.04999</td>\n",
       "      <td>14</td>\n",
       "      <td>0.0001</td>\n",
       "    </tr>\n",
       "    <tr>\n",
       "      <th>988</th>\n",
       "      <td>58.0</td>\n",
       "      <td>1926874.0</td>\n",
       "      <td>1.645069e+09</td>\n",
       "      <td>0.008836</td>\n",
       "      <td>0.04999</td>\n",
       "      <td>14</td>\n",
       "      <td>0.0001</td>\n",
       "    </tr>\n",
       "    <tr>\n",
       "      <th>989</th>\n",
       "      <td>43.0</td>\n",
       "      <td>1928492.0</td>\n",
       "      <td>1.645069e+09</td>\n",
       "      <td>0.009111</td>\n",
       "      <td>0.04999</td>\n",
       "      <td>14</td>\n",
       "      <td>0.0001</td>\n",
       "    </tr>\n",
       "    <tr>\n",
       "      <th>990</th>\n",
       "      <td>34.0</td>\n",
       "      <td>1929996.0</td>\n",
       "      <td>1.645069e+09</td>\n",
       "      <td>0.009206</td>\n",
       "      <td>0.04999</td>\n",
       "      <td>14</td>\n",
       "      <td>0.0001</td>\n",
       "    </tr>\n",
       "  </tbody>\n",
       "</table>\n",
       "<p>991 rows × 7 columns</p>\n",
       "</div>"
      ],
      "text/plain": [
       "     REWARD      TRAIN          TIME      LOSS  EXPLORATION_RATE  FPS      LR\n",
       "0      -4.0     2360.0  1.644937e+09  0.000350           0.97740   16  0.0001\n",
       "1       1.0     4764.0  1.644937e+09  0.000285           0.95336   15  0.0001\n",
       "2      -5.0     7143.0  1.644937e+09  0.000400           0.92957   15  0.0001\n",
       "3      -1.0     9514.0  1.644937e+09  0.000468           0.90586   15  0.0001\n",
       "4       1.0    11898.0  1.644938e+09  0.000496           0.88202   15  0.0001\n",
       "..      ...        ...           ...       ...               ...  ...     ...\n",
       "986    38.0  1923494.0  1.645069e+09  0.009519           0.04999   14  0.0001\n",
       "987    32.0  1925607.0  1.645069e+09  0.009189           0.04999   14  0.0001\n",
       "988    58.0  1926874.0  1.645069e+09  0.008836           0.04999   14  0.0001\n",
       "989    43.0  1928492.0  1.645069e+09  0.009111           0.04999   14  0.0001\n",
       "990    34.0  1929996.0  1.645069e+09  0.009206           0.04999   14  0.0001\n",
       "\n",
       "[991 rows x 7 columns]"
      ]
     },
     "execution_count": 8,
     "metadata": {},
     "output_type": "execute_result"
    }
   ],
   "source": [
    "df_boxing_v1"
   ]
  },
  {
   "cell_type": "markdown",
   "id": "8c3c1203",
   "metadata": {},
   "source": [
    "#### Informações sobre o experimento 1"
   ]
  },
  {
   "cell_type": "code",
   "execution_count": 9,
   "id": "27d1f2e5",
   "metadata": {},
   "outputs": [
    {
     "name": "stdout",
     "output_type": "stream",
     "text": [
      "version: 0.0.1\n",
      "game: Boxing-v0\n",
      "description: \n",
      "    \n",
      "   \n",
      "    \n",
      "    \n",
      "sample_batch_size: 32\n",
      "epochs_to_save_results: 10\n",
      "freq_update_nn: 1000\n",
      "frames_skip: 1\n",
      "down_sample: 2\n",
      "episodes: 100000\n",
      "freq_save_video: 10\n",
      "\n",
      " - dirs\n",
      "\tdir_results: experiments/Boxing-v1/\n",
      "\tdir_annotations_experiments: experiments/Boxing-v1/\n",
      "\tdir_videos: experiments/Boxing-v1/movies/\n",
      "\tdir_model: experiments/Boxing-v1/model/\n",
      "\n",
      " - prune_image\n",
      "\ttop: 35\n",
      "\tbottom: 15\n",
      "\tright: 7\n",
      "\tleft: 7\n",
      "\n",
      " - params_agent\n",
      "\tmemory_size: 200000\n",
      "\tmin_learning_rate: 0.0001\n",
      "\tmax_learning_rate: 0.0001\n",
      "\tepochs_interval_lr: 0\n",
      "\tgamma: 0.99\n",
      "\texploration_rate: 1\n",
      "\texploration_min: 0.05\n",
      "\texploration_decay: 1e-05\n",
      "\tk_frames: 4\n",
      "\n",
      " - structure_neural_network\n",
      "\tinput_shape: [80, 80]\n",
      "\toutput_activation: linear\n",
      "\n",
      " - conv:\n",
      "\n",
      "\t > conv(1):\n",
      "\t\tfilter: 32\n",
      "\t\tkernel_size: [8, 8]\n",
      "\t\tstrides: 4\n",
      "\t\tactivation: relu\n",
      "\t\tpadding: valid\n",
      "\n",
      "\t > conv(2):\n",
      "\t\tfilter: 64\n",
      "\t\tkernel_size: [4, 4]\n",
      "\t\tstrides: 2\n",
      "\t\tactivation: relu\n",
      "\t\tpadding: valid\n",
      "\n",
      "\t > conv(3):\n",
      "\t\tfilter: 64\n",
      "\t\tkernel_size: [3, 3]\n",
      "\t\tstrides: 1\n",
      "\t\tactivation: relu\n",
      "\t\tpadding: valid\n",
      "\n",
      " - neural_network:\n",
      "\n",
      "\t > neural_network(1):\n",
      "\t\tneurons: 512\n",
      "\t\tactivation: relu\n",
      "\n",
      "\t > neural_network(2):\n",
      "\t\tneurons: 256\n",
      "\t\tactivation: relu\n",
      "\t\tkernel_initializer: he_uniform\n",
      "\n",
      "\t > neural_network(3):\n",
      "\t\tneurons: 64\n",
      "\t\tactivation: relu\n",
      "\t\tkernel_initializer: he_uniform\n"
     ]
    }
   ],
   "source": [
    "summary(dict_boxing_v1)"
   ]
  },
  {
   "cell_type": "code",
   "execution_count": 10,
   "id": "da1e64e4",
   "metadata": {},
   "outputs": [
    {
     "data": {
      "text/plain": [
       "(2949, 7)"
      ]
     },
     "execution_count": 10,
     "metadata": {},
     "output_type": "execute_result"
    }
   ],
   "source": [
    "df_boxing_v2, dict_boxing_v2 = get_documents('../experiments/Boxing-v2/')\n",
    "df_boxing_v2.shape"
   ]
  },
  {
   "cell_type": "markdown",
   "id": "61640153",
   "metadata": {},
   "source": [
    "#### Informações sobre o experimento 2"
   ]
  },
  {
   "cell_type": "code",
   "execution_count": 11,
   "id": "2ef0b1bd",
   "metadata": {},
   "outputs": [
    {
     "name": "stdout",
     "output_type": "stream",
     "text": [
      "version: 0.0.1\n",
      "game: Boxing-v0\n",
      "description: \n",
      "    \n",
      "   \n",
      "    \n",
      "    \n",
      "sample_batch_size: 32\n",
      "epochs_to_save_results: 10\n",
      "freq_update_nn: 1000\n",
      "frames_skip: 1\n",
      "down_sample: 2\n",
      "episodes: 100000\n",
      "freq_save_video: 10\n",
      "\n",
      " - dirs\n",
      "\tdir_results: experiments/Boxing-v2/\n",
      "\tdir_annotations_experiments: experiments/Boxing-v2/\n",
      "\tdir_videos: experiments/Boxing-v2/movies/\n",
      "\tdir_model: experiments/Boxing-v2/model/\n",
      "\n",
      " - prune_image\n",
      "\ttop: 35\n",
      "\tbottom: 15\n",
      "\tright: 7\n",
      "\tleft: 7\n",
      "\n",
      " - params_agent\n",
      "\tmemory_size: 200000\n",
      "\tmin_learning_rate: 0.0001\n",
      "\tmax_learning_rate: 1e-05\n",
      "\tepochs_interval_lr: 200\n",
      "\tgamma: 0.99\n",
      "\texploration_rate: 1\n",
      "\texploration_min: 0.05\n",
      "\texploration_decay: 1e-05\n",
      "\tk_frames: 4\n",
      "\n",
      " - structure_neural_network\n",
      "\tinput_shape: [80, 80]\n",
      "\toutput_activation: linear\n",
      "\n",
      " - conv:\n",
      "\n",
      "\t > conv(1):\n",
      "\t\tfilter: 32\n",
      "\t\tkernel_size: [8, 8]\n",
      "\t\tstrides: 4\n",
      "\t\tactivation: relu\n",
      "\t\tpadding: valid\n",
      "\n",
      "\t > conv(2):\n",
      "\t\tfilter: 64\n",
      "\t\tkernel_size: [4, 4]\n",
      "\t\tstrides: 2\n",
      "\t\tactivation: relu\n",
      "\t\tpadding: valid\n",
      "\n",
      "\t > conv(3):\n",
      "\t\tfilter: 64\n",
      "\t\tkernel_size: [3, 3]\n",
      "\t\tstrides: 1\n",
      "\t\tactivation: relu\n",
      "\t\tpadding: valid\n",
      "\n",
      " - neural_network:\n",
      "\n",
      "\t > neural_network(1):\n",
      "\t\tneurons: 512\n",
      "\t\tactivation: relu\n",
      "\n",
      "\t > neural_network(2):\n",
      "\t\tneurons: 256\n",
      "\t\tactivation: relu\n",
      "\t\tkernel_initializer: he_uniform\n",
      "\n",
      "\t > neural_network(3):\n",
      "\t\tneurons: 64\n",
      "\t\tactivation: relu\n",
      "\t\tkernel_initializer: he_uniform\n"
     ]
    }
   ],
   "source": [
    "summary(dict_boxing_v2)"
   ]
  },
  {
   "cell_type": "code",
   "execution_count": 13,
   "id": "bfade3ac-8b14-4e4e-9a8b-2ad4d472ceb2",
   "metadata": {},
   "outputs": [
    {
     "ename": "FileNotFoundError",
     "evalue": "[Errno 2] No such file or directory: '../experiments/Boxing-v1 - test/df_results.csv'",
     "output_type": "error",
     "traceback": [
      "\u001b[1;31m---------------------------------------------------------------------------\u001b[0m",
      "\u001b[1;31mFileNotFoundError\u001b[0m                         Traceback (most recent call last)",
      "\u001b[1;32m<ipython-input-13-51050ddbb66f>\u001b[0m in \u001b[0;36m<module>\u001b[1;34m\u001b[0m\n\u001b[1;32m----> 1\u001b[1;33m \u001b[0mdf_boxing_v3\u001b[0m\u001b[1;33m,\u001b[0m \u001b[0mdict_boxing_v3\u001b[0m \u001b[1;33m=\u001b[0m \u001b[0mget_documents\u001b[0m\u001b[1;33m(\u001b[0m\u001b[1;34m'../experiments/Boxing-v1 - test/'\u001b[0m\u001b[1;33m)\u001b[0m\u001b[1;33m\u001b[0m\u001b[1;33m\u001b[0m\u001b[0m\n\u001b[0m\u001b[0;32m      2\u001b[0m \u001b[0mdf_boxing_v3\u001b[0m\u001b[1;33m.\u001b[0m\u001b[0mshape\u001b[0m\u001b[1;33m\u001b[0m\u001b[1;33m\u001b[0m\u001b[0m\n",
      "\u001b[1;32m<ipython-input-5-56564ff77499>\u001b[0m in \u001b[0;36mget_documents\u001b[1;34m(uri)\u001b[0m\n\u001b[0;32m      4\u001b[0m     '''\n\u001b[0;32m      5\u001b[0m \u001b[1;33m\u001b[0m\u001b[0m\n\u001b[1;32m----> 6\u001b[1;33m     \u001b[0mdf\u001b[0m \u001b[1;33m=\u001b[0m \u001b[0mpd\u001b[0m\u001b[1;33m.\u001b[0m\u001b[0mread_csv\u001b[0m\u001b[1;33m(\u001b[0m\u001b[0muri\u001b[0m\u001b[1;33m+\u001b[0m\u001b[0mname_dfs\u001b[0m\u001b[1;33m)\u001b[0m\u001b[1;33m\u001b[0m\u001b[1;33m\u001b[0m\u001b[0m\n\u001b[0m\u001b[0;32m      7\u001b[0m     \u001b[0mjs\u001b[0m \u001b[1;33m=\u001b[0m \u001b[0mjson\u001b[0m\u001b[1;33m.\u001b[0m\u001b[0mload\u001b[0m\u001b[1;33m(\u001b[0m\u001b[0mopen\u001b[0m\u001b[1;33m(\u001b[0m\u001b[0muri\u001b[0m\u001b[1;33m+\u001b[0m\u001b[0mname_dict_experiments\u001b[0m\u001b[1;33m)\u001b[0m\u001b[1;33m)\u001b[0m\u001b[1;33m\u001b[0m\u001b[1;33m\u001b[0m\u001b[0m\n\u001b[0;32m      8\u001b[0m \u001b[1;33m\u001b[0m\u001b[0m\n",
      "\u001b[1;32mC:\\ana\\envs\\ReinforcementLearningOldVersion\\lib\\site-packages\\pandas\\io\\parsers.py\u001b[0m in \u001b[0;36mread_csv\u001b[1;34m(filepath_or_buffer, sep, delimiter, header, names, index_col, usecols, squeeze, prefix, mangle_dupe_cols, dtype, engine, converters, true_values, false_values, skipinitialspace, skiprows, skipfooter, nrows, na_values, keep_default_na, na_filter, verbose, skip_blank_lines, parse_dates, infer_datetime_format, keep_date_col, date_parser, dayfirst, cache_dates, iterator, chunksize, compression, thousands, decimal, lineterminator, quotechar, quoting, doublequote, escapechar, comment, encoding, dialect, error_bad_lines, warn_bad_lines, delim_whitespace, low_memory, memory_map, float_precision)\u001b[0m\n\u001b[0;32m    686\u001b[0m     )\n\u001b[0;32m    687\u001b[0m \u001b[1;33m\u001b[0m\u001b[0m\n\u001b[1;32m--> 688\u001b[1;33m     \u001b[1;32mreturn\u001b[0m \u001b[0m_read\u001b[0m\u001b[1;33m(\u001b[0m\u001b[0mfilepath_or_buffer\u001b[0m\u001b[1;33m,\u001b[0m \u001b[0mkwds\u001b[0m\u001b[1;33m)\u001b[0m\u001b[1;33m\u001b[0m\u001b[1;33m\u001b[0m\u001b[0m\n\u001b[0m\u001b[0;32m    689\u001b[0m \u001b[1;33m\u001b[0m\u001b[0m\n\u001b[0;32m    690\u001b[0m \u001b[1;33m\u001b[0m\u001b[0m\n",
      "\u001b[1;32mC:\\ana\\envs\\ReinforcementLearningOldVersion\\lib\\site-packages\\pandas\\io\\parsers.py\u001b[0m in \u001b[0;36m_read\u001b[1;34m(filepath_or_buffer, kwds)\u001b[0m\n\u001b[0;32m    452\u001b[0m \u001b[1;33m\u001b[0m\u001b[0m\n\u001b[0;32m    453\u001b[0m     \u001b[1;31m# Create the parser.\u001b[0m\u001b[1;33m\u001b[0m\u001b[1;33m\u001b[0m\u001b[1;33m\u001b[0m\u001b[0m\n\u001b[1;32m--> 454\u001b[1;33m     \u001b[0mparser\u001b[0m \u001b[1;33m=\u001b[0m \u001b[0mTextFileReader\u001b[0m\u001b[1;33m(\u001b[0m\u001b[0mfp_or_buf\u001b[0m\u001b[1;33m,\u001b[0m \u001b[1;33m**\u001b[0m\u001b[0mkwds\u001b[0m\u001b[1;33m)\u001b[0m\u001b[1;33m\u001b[0m\u001b[1;33m\u001b[0m\u001b[0m\n\u001b[0m\u001b[0;32m    455\u001b[0m \u001b[1;33m\u001b[0m\u001b[0m\n\u001b[0;32m    456\u001b[0m     \u001b[1;32mif\u001b[0m \u001b[0mchunksize\u001b[0m \u001b[1;32mor\u001b[0m \u001b[0miterator\u001b[0m\u001b[1;33m:\u001b[0m\u001b[1;33m\u001b[0m\u001b[1;33m\u001b[0m\u001b[0m\n",
      "\u001b[1;32mC:\\ana\\envs\\ReinforcementLearningOldVersion\\lib\\site-packages\\pandas\\io\\parsers.py\u001b[0m in \u001b[0;36m__init__\u001b[1;34m(self, f, engine, **kwds)\u001b[0m\n\u001b[0;32m    946\u001b[0m             \u001b[0mself\u001b[0m\u001b[1;33m.\u001b[0m\u001b[0moptions\u001b[0m\u001b[1;33m[\u001b[0m\u001b[1;34m\"has_index_names\"\u001b[0m\u001b[1;33m]\u001b[0m \u001b[1;33m=\u001b[0m \u001b[0mkwds\u001b[0m\u001b[1;33m[\u001b[0m\u001b[1;34m\"has_index_names\"\u001b[0m\u001b[1;33m]\u001b[0m\u001b[1;33m\u001b[0m\u001b[1;33m\u001b[0m\u001b[0m\n\u001b[0;32m    947\u001b[0m \u001b[1;33m\u001b[0m\u001b[0m\n\u001b[1;32m--> 948\u001b[1;33m         \u001b[0mself\u001b[0m\u001b[1;33m.\u001b[0m\u001b[0m_make_engine\u001b[0m\u001b[1;33m(\u001b[0m\u001b[0mself\u001b[0m\u001b[1;33m.\u001b[0m\u001b[0mengine\u001b[0m\u001b[1;33m)\u001b[0m\u001b[1;33m\u001b[0m\u001b[1;33m\u001b[0m\u001b[0m\n\u001b[0m\u001b[0;32m    949\u001b[0m \u001b[1;33m\u001b[0m\u001b[0m\n\u001b[0;32m    950\u001b[0m     \u001b[1;32mdef\u001b[0m \u001b[0mclose\u001b[0m\u001b[1;33m(\u001b[0m\u001b[0mself\u001b[0m\u001b[1;33m)\u001b[0m\u001b[1;33m:\u001b[0m\u001b[1;33m\u001b[0m\u001b[1;33m\u001b[0m\u001b[0m\n",
      "\u001b[1;32mC:\\ana\\envs\\ReinforcementLearningOldVersion\\lib\\site-packages\\pandas\\io\\parsers.py\u001b[0m in \u001b[0;36m_make_engine\u001b[1;34m(self, engine)\u001b[0m\n\u001b[0;32m   1178\u001b[0m     \u001b[1;32mdef\u001b[0m \u001b[0m_make_engine\u001b[0m\u001b[1;33m(\u001b[0m\u001b[0mself\u001b[0m\u001b[1;33m,\u001b[0m \u001b[0mengine\u001b[0m\u001b[1;33m=\u001b[0m\u001b[1;34m\"c\"\u001b[0m\u001b[1;33m)\u001b[0m\u001b[1;33m:\u001b[0m\u001b[1;33m\u001b[0m\u001b[1;33m\u001b[0m\u001b[0m\n\u001b[0;32m   1179\u001b[0m         \u001b[1;32mif\u001b[0m \u001b[0mengine\u001b[0m \u001b[1;33m==\u001b[0m \u001b[1;34m\"c\"\u001b[0m\u001b[1;33m:\u001b[0m\u001b[1;33m\u001b[0m\u001b[1;33m\u001b[0m\u001b[0m\n\u001b[1;32m-> 1180\u001b[1;33m             \u001b[0mself\u001b[0m\u001b[1;33m.\u001b[0m\u001b[0m_engine\u001b[0m \u001b[1;33m=\u001b[0m \u001b[0mCParserWrapper\u001b[0m\u001b[1;33m(\u001b[0m\u001b[0mself\u001b[0m\u001b[1;33m.\u001b[0m\u001b[0mf\u001b[0m\u001b[1;33m,\u001b[0m \u001b[1;33m**\u001b[0m\u001b[0mself\u001b[0m\u001b[1;33m.\u001b[0m\u001b[0moptions\u001b[0m\u001b[1;33m)\u001b[0m\u001b[1;33m\u001b[0m\u001b[1;33m\u001b[0m\u001b[0m\n\u001b[0m\u001b[0;32m   1181\u001b[0m         \u001b[1;32melse\u001b[0m\u001b[1;33m:\u001b[0m\u001b[1;33m\u001b[0m\u001b[1;33m\u001b[0m\u001b[0m\n\u001b[0;32m   1182\u001b[0m             \u001b[1;32mif\u001b[0m \u001b[0mengine\u001b[0m \u001b[1;33m==\u001b[0m \u001b[1;34m\"python\"\u001b[0m\u001b[1;33m:\u001b[0m\u001b[1;33m\u001b[0m\u001b[1;33m\u001b[0m\u001b[0m\n",
      "\u001b[1;32mC:\\ana\\envs\\ReinforcementLearningOldVersion\\lib\\site-packages\\pandas\\io\\parsers.py\u001b[0m in \u001b[0;36m__init__\u001b[1;34m(self, src, **kwds)\u001b[0m\n\u001b[0;32m   2008\u001b[0m         \u001b[0mkwds\u001b[0m\u001b[1;33m[\u001b[0m\u001b[1;34m\"usecols\"\u001b[0m\u001b[1;33m]\u001b[0m \u001b[1;33m=\u001b[0m \u001b[0mself\u001b[0m\u001b[1;33m.\u001b[0m\u001b[0musecols\u001b[0m\u001b[1;33m\u001b[0m\u001b[1;33m\u001b[0m\u001b[0m\n\u001b[0;32m   2009\u001b[0m \u001b[1;33m\u001b[0m\u001b[0m\n\u001b[1;32m-> 2010\u001b[1;33m         \u001b[0mself\u001b[0m\u001b[1;33m.\u001b[0m\u001b[0m_reader\u001b[0m \u001b[1;33m=\u001b[0m \u001b[0mparsers\u001b[0m\u001b[1;33m.\u001b[0m\u001b[0mTextReader\u001b[0m\u001b[1;33m(\u001b[0m\u001b[0msrc\u001b[0m\u001b[1;33m,\u001b[0m \u001b[1;33m**\u001b[0m\u001b[0mkwds\u001b[0m\u001b[1;33m)\u001b[0m\u001b[1;33m\u001b[0m\u001b[1;33m\u001b[0m\u001b[0m\n\u001b[0m\u001b[0;32m   2011\u001b[0m         \u001b[0mself\u001b[0m\u001b[1;33m.\u001b[0m\u001b[0munnamed_cols\u001b[0m \u001b[1;33m=\u001b[0m \u001b[0mself\u001b[0m\u001b[1;33m.\u001b[0m\u001b[0m_reader\u001b[0m\u001b[1;33m.\u001b[0m\u001b[0munnamed_cols\u001b[0m\u001b[1;33m\u001b[0m\u001b[1;33m\u001b[0m\u001b[0m\n\u001b[0;32m   2012\u001b[0m \u001b[1;33m\u001b[0m\u001b[0m\n",
      "\u001b[1;32mpandas\\_libs\\parsers.pyx\u001b[0m in \u001b[0;36mpandas._libs.parsers.TextReader.__cinit__\u001b[1;34m()\u001b[0m\n",
      "\u001b[1;32mpandas\\_libs\\parsers.pyx\u001b[0m in \u001b[0;36mpandas._libs.parsers.TextReader._setup_parser_source\u001b[1;34m()\u001b[0m\n",
      "\u001b[1;31mFileNotFoundError\u001b[0m: [Errno 2] No such file or directory: '../experiments/Boxing-v1 - test/df_results.csv'"
     ]
    }
   ],
   "source": [
    "df_boxing_v3, dict_boxing_v3 = get_documents('../experiments/Boxing-v1 - test/')\n",
    "df_boxing_v3.shape"
   ]
  },
  {
   "cell_type": "markdown",
   "id": "157df47d-24e7-4f0b-b2c5-bbc3fbbe86e2",
   "metadata": {},
   "source": [
    "#### Informações sobre o experimento 2"
   ]
  },
  {
   "cell_type": "code",
   "execution_count": 9,
   "id": "f39112da-4b30-4a1d-a558-ae151278a8ec",
   "metadata": {},
   "outputs": [
    {
     "name": "stdout",
     "output_type": "stream",
     "text": [
      "version: 0.0.1\n",
      "game: Boxing-v0\n",
      "description: \n",
      "    \n",
      "   \n",
      "    \n",
      "    \n",
      "sample_batch_size: 32\n",
      "epochs_to_save_results: 10\n",
      "freq_update_nn: 1000\n",
      "frames_skip: 1\n",
      "down_sample: 2\n",
      "episodes: 100000\n",
      "freq_save_video: 10\n",
      "\n",
      " - dirs\n",
      "\tdir_results: experiments/Boxing-v2/\n",
      "\tdir_annotations_experiments: experiments/Boxing-v2/\n",
      "\tdir_videos: experiments/Boxing-v2/movies/\n",
      "\tdir_model: experiments/Boxing-v2/model/\n",
      "\n",
      " - prune_image\n",
      "\ttop: 35\n",
      "\tbottom: 15\n",
      "\tright: 7\n",
      "\tleft: 7\n",
      "\n",
      " - params_agent\n",
      "\tmemory_size: 200000\n",
      "\tmin_learning_rate: 0.0001\n",
      "\tmax_learning_rate: 1e-05\n",
      "\tepochs_interval_lr: 200\n",
      "\tgamma: 0.99\n",
      "\texploration_rate: 1\n",
      "\texploration_min: 0.05\n",
      "\texploration_decay: 1e-05\n",
      "\tk_frames: 4\n",
      "\n",
      " - structure_neural_network\n",
      "\tinput_shape: [80, 80]\n",
      "\toutput_activation: linear\n",
      "\n",
      " - conv:\n",
      "\n",
      "\t > conv(1):\n",
      "\t\tfilter: 32\n",
      "\t\tkernel_size: [8, 8]\n",
      "\t\tstrides: 4\n",
      "\t\tactivation: relu\n",
      "\t\tpadding: valid\n",
      "\n",
      "\t > conv(2):\n",
      "\t\tfilter: 64\n",
      "\t\tkernel_size: [4, 4]\n",
      "\t\tstrides: 2\n",
      "\t\tactivation: relu\n",
      "\t\tpadding: valid\n",
      "\n",
      "\t > conv(3):\n",
      "\t\tfilter: 64\n",
      "\t\tkernel_size: [3, 3]\n",
      "\t\tstrides: 1\n",
      "\t\tactivation: relu\n",
      "\t\tpadding: valid\n",
      "\n",
      " - neural_network:\n",
      "\n",
      "\t > neural_network(1):\n",
      "\t\tneurons: 512\n",
      "\t\tactivation: relu\n",
      "\n",
      "\t > neural_network(2):\n",
      "\t\tneurons: 256\n",
      "\t\tactivation: relu\n",
      "\t\tkernel_initializer: he_uniform\n",
      "\n",
      "\t > neural_network(3):\n",
      "\t\tneurons: 64\n",
      "\t\tactivation: relu\n",
      "\t\tkernel_initializer: he_uniform\n"
     ]
    }
   ],
   "source": [
    "summary(dict_boxing_v2)"
   ]
  },
  {
   "cell_type": "markdown",
   "id": "d4a55c01",
   "metadata": {},
   "source": [
    "## Pré-processamento"
   ]
  },
  {
   "cell_type": "code",
   "execution_count": 30,
   "id": "3b31b483",
   "metadata": {},
   "outputs": [],
   "source": [
    "def norm(n):\n",
    "    return 0 if n<0 else n\n",
    "    \n",
    "def mean_reward(values, interval):\n",
    "    \n",
    "    '''\n",
    "        Essa função tem como propósito melhorar a visualização das recompensas ao longo dos jogos.\n",
    "        Ela remove o ruído da visualização realizando a média de cada ponto considerando a uma quantidade de valores.\n",
    "        \n",
    "        \n",
    "        values: (list) Valores que serão aplicado a média.\n",
    "        interval: (int) Quantidade de valores que serão considerados para os cálculos das médias.\n",
    "    '''\n",
    "    \n",
    "    mean_rewards = []\n",
    "    for i in range(1, len(values)+1):\n",
    "        #print('{} - {} ||| len: {}'.format(norm(i-interval), i, len(values[norm(i-interval):i])))\n",
    "        mean_rewards.append(values[norm(i-interval):i].mean())\n",
    "\n",
    "    return mean_rewards"
   ]
  },
  {
   "cell_type": "code",
   "execution_count": 12,
   "id": "3eebc859",
   "metadata": {},
   "outputs": [],
   "source": [
    "df_boxing_v1['MEAN_REWARD'] = mean_reward(df_boxing_v1['REWARD'], 50)\n",
    "df_boxing_v2['MEAN_REWARD'] = mean_reward(df_boxing_v2['REWARD'], 50)"
   ]
  },
  {
   "cell_type": "markdown",
   "id": "a799886d",
   "metadata": {},
   "source": [
    "### Estrutura dos modelos"
   ]
  },
  {
   "cell_type": "code",
   "execution_count": 15,
   "id": "7b833318",
   "metadata": {},
   "outputs": [
    {
     "name": "stdout",
     "output_type": "stream",
     "text": [
      "input_shape: [80, 80]\n",
      "output_activation: linear\n",
      "\n",
      " - conv:\n",
      "\n",
      " > conv(1):\n",
      "\tfilter: 32\n",
      "\tkernel_size: [8, 8]\n",
      "\tstrides: 4\n",
      "\tactivation: relu\n",
      "\tpadding: valid\n",
      "\n",
      " > conv(2):\n",
      "\tfilter: 64\n",
      "\tkernel_size: [4, 4]\n",
      "\tstrides: 2\n",
      "\tactivation: relu\n",
      "\tpadding: valid\n",
      "\n",
      " > conv(3):\n",
      "\tfilter: 64\n",
      "\tkernel_size: [3, 3]\n",
      "\tstrides: 1\n",
      "\tactivation: relu\n",
      "\tpadding: valid\n",
      "\n",
      " - neural_network:\n",
      "\n",
      " > neural_network(1):\n",
      "\tneurons: 512\n",
      "\tactivation: relu\n",
      "\n",
      " > neural_network(2):\n",
      "\tneurons: 256\n",
      "\tactivation: relu\n",
      "\tkernel_initializer: he_uniform\n",
      "\n",
      " > neural_network(3):\n",
      "\tneurons: 64\n",
      "\tactivation: relu\n",
      "\tkernel_initializer: he_uniform\n"
     ]
    }
   ],
   "source": [
    "summary(dict_boxing_v1, specific_key=['structure_neural_network'])"
   ]
  },
  {
   "cell_type": "code",
   "execution_count": 16,
   "id": "c211c8d6",
   "metadata": {},
   "outputs": [
    {
     "name": "stdout",
     "output_type": "stream",
     "text": [
      "input_shape: [80, 80]\n",
      "output_activation: linear\n",
      "\n",
      " - conv:\n",
      "\n",
      " > conv(1):\n",
      "\tfilter: 32\n",
      "\tkernel_size: [8, 8]\n",
      "\tstrides: 4\n",
      "\tactivation: relu\n",
      "\tpadding: valid\n",
      "\n",
      " > conv(2):\n",
      "\tfilter: 64\n",
      "\tkernel_size: [4, 4]\n",
      "\tstrides: 2\n",
      "\tactivation: relu\n",
      "\tpadding: valid\n",
      "\n",
      " > conv(3):\n",
      "\tfilter: 64\n",
      "\tkernel_size: [3, 3]\n",
      "\tstrides: 1\n",
      "\tactivation: relu\n",
      "\tpadding: valid\n",
      "\n",
      " - neural_network:\n",
      "\n",
      " > neural_network(1):\n",
      "\tneurons: 512\n",
      "\tactivation: relu\n",
      "\n",
      " > neural_network(2):\n",
      "\tneurons: 256\n",
      "\tactivation: relu\n",
      "\tkernel_initializer: he_uniform\n",
      "\n",
      " > neural_network(3):\n",
      "\tneurons: 64\n",
      "\tactivation: relu\n",
      "\tkernel_initializer: he_uniform\n"
     ]
    }
   ],
   "source": [
    "summary(dict_boxing_v2, specific_key=['structure_neural_network'])"
   ]
  },
  {
   "cell_type": "markdown",
   "id": "df088165",
   "metadata": {},
   "source": [
    "## Visualizações "
   ]
  },
  {
   "cell_type": "code",
   "execution_count": 17,
   "id": "6a66d95b",
   "metadata": {},
   "outputs": [
    {
     "data": {
      "text/plain": [
       "[<matplotlib.lines.Line2D at 0x1a725cb6748>]"
      ]
     },
     "execution_count": 17,
     "metadata": {},
     "output_type": "execute_result"
    },
    {
     "data": {
      "image/png": "[encoded data removed]",
      "text/plain": [
       "<Figure size 1080x720 with 2 Axes>"
      ]
     },
     "metadata": {
      "needs_background": "light"
     },
     "output_type": "display_data"
    }
   ],
   "source": [
    "fig, axs = plt.subplots(2, sharex=True, sharey=True, figsize=(15, 10))\n",
    "fig.suptitle('Visualizações ')\n",
    "axs[0].plot(df_boxing_v1['TRAIN'], df_boxing_v1['MEAN_REWARD'])\n",
    "axs[1].plot(df_boxing_v2['TRAIN'], df_boxing_v2['MEAN_REWARD'])"
   ]
  },
  {
   "cell_type": "markdown",
   "id": "611352f4",
   "metadata": {},
   "source": [
    "## Comparação de experimentos"
   ]
  },
  {
   "cell_type": "code",
   "execution_count": 18,
   "id": "123cab5a",
   "metadata": {},
   "outputs": [
    {
     "data": {
      "text/plain": [
       "<matplotlib.legend.Legend at 0x1a72598b668>"
      ]
     },
     "execution_count": 18,
     "metadata": {},
     "output_type": "execute_result"
    },
    {
     "data": {
      "image/png": "[encoded data removed]",
      "text/plain": [
       "<Figure size 720x504 with 1 Axes>"
      ]
     },
     "metadata": {
      "needs_background": "light"
     },
     "output_type": "display_data"
    }
   ],
   "source": [
    "plt.figure(figsize=(10,7))\n",
    "plt.plot(df_boxing_v1['TRAIN'], df_boxing_v1['MEAN_REWARD'], label='Experimento (1)')\n",
    "plt.plot(df_boxing_v2['TRAIN'], df_boxing_v2['MEAN_REWARD'], label='Experimento (2)')\n",
    "plt.legend()"
   ]
  },
  {
   "cell_type": "markdown",
   "id": "e1b2ab7d",
   "metadata": {},
   "source": [
    "> É perceptível que o experimento 5 obteve atingiu melhores resultados com maior rapidez comparado aos outros."
   ]
  },
  {
   "cell_type": "markdown",
   "id": "fbdfc510",
   "metadata": {},
   "source": [
    "### Observação da variação da taxa de aprendizado de cada experimento"
   ]
  },
  {
   "cell_type": "code",
   "execution_count": 19,
   "id": "98c2704f",
   "metadata": {},
   "outputs": [
    {
     "data": {
      "text/plain": [
       "<matplotlib.legend.Legend at 0x1a724abe320>"
      ]
     },
     "execution_count": 19,
     "metadata": {},
     "output_type": "execute_result"
    },
    {
     "data": {
      "image/png": "[encoded data removed]",
      "text/plain": [
       "<Figure size 720x504 with 1 Axes>"
      ]
     },
     "metadata": {
      "needs_background": "light"
     },
     "output_type": "display_data"
    }
   ],
   "source": [
    "plt.figure(figsize=(10,7))\n",
    "plt.plot(df_boxing_v1['TRAIN'], df_boxing_v1['LR'], label='Experimento (1)')\n",
    "plt.plot(df_boxing_v2['TRAIN'], df_boxing_v2['LR'], label='Experimento (2)')\n",
    "plt.legend()"
   ]
  },
  {
   "cell_type": "markdown",
   "id": "55b90109",
   "metadata": {},
   "source": [
    "> O experimento 1 parece entrar em uma constancia mais cedo do que o experimento 2, isso pode ser efeito do Learning Rate, com a taxa menor, talvez o gradiente consiga realizar ajustes finos.\n",
    "\n",
    "> Visto essa situação, talvez seja interessante aplicar um decaimento no Learning Rate. Talvez assim os resultados possam maximizar de forma mais rápida. \n",
    "\n",
    "> É notório que o experimento 2 foi realizado em um tempo maior do que o experimento 1, essa situação ocorre por própria questão de tempo que temos para executar a pesquisa. Experimentos que aparentam estar evoluindo melhor, são deixados executando por um tempo maior do que os que aparentam entrar em uma constancia.\n",
    "\n",
    "**O Trabalho conta com poucos experimentos por questão de tempo, estes levam dias para serem concluídos!**"
   ]
  },
  {
   "cell_type": "markdown",
   "id": "75d695e3",
   "metadata": {},
   "source": [
    "### Observação da variação da taxa de exploração de cada experimento"
   ]
  },
  {
   "cell_type": "code",
   "execution_count": 23,
   "id": "4ca9a9b8",
   "metadata": {},
   "outputs": [
    {
     "data": {
      "text/plain": [
       "<matplotlib.legend.Legend at 0x1a7259f4be0>"
      ]
     },
     "execution_count": 23,
     "metadata": {},
     "output_type": "execute_result"
    },
    {
     "data": {
      "image/png": "[encoded data removed]",
      "text/plain": [
       "<Figure size 720x504 with 1 Axes>"
      ]
     },
     "metadata": {
      "needs_background": "light"
     },
     "output_type": "display_data"
    }
   ],
   "source": [
    "plt.figure(figsize=(10,7))\n",
    "plt.plot(df_boxing_v1['TRAIN'], df_boxing_v1['EXPLORATION_RATE'], label='Experimento (1)')\n",
    "plt.plot(df_boxing_v2['TRAIN'], df_boxing_v2['EXPLORATION_RATE'], label='Experimento (2)')\n",
    "plt.legend()"
   ]
  },
  {
   "cell_type": "markdown",
   "id": "4e645737",
   "metadata": {},
   "source": [
    "> Nos experimentos realizados com o jogo Pong, não foi modificado o decaimento da exploração, todos os 3 experimentos foram realizados seguindo o mesmo modelo."
   ]
  },
  {
   "cell_type": "markdown",
   "id": "11470e9c",
   "metadata": {},
   "source": [
    "## Tempo gasto para o treinamento de cada experimento"
   ]
  },
  {
   "cell_type": "code",
   "execution_count": 25,
   "id": "cd9e034b",
   "metadata": {},
   "outputs": [],
   "source": [
    "def transform_time(sec, label):\n",
    "    minutes = sec//60\n",
    "    sec = int(sec%60)\n",
    "    \n",
    "    hours = minutes//60\n",
    "    minutes %= 60\n",
    "    \n",
    "    days = hours//24\n",
    "    hours %=24\n",
    "    \n",
    "    print('{} - {} dias - {}:{}:{}'.format(label, days, hours, minutes, sec))"
   ]
  },
  {
   "cell_type": "code",
   "execution_count": 26,
   "id": "25516d48",
   "metadata": {},
   "outputs": [
    {
     "name": "stdout",
     "output_type": "stream",
     "text": [
      "Experimento 0 - 1.0 dias - 12.0:39.0:29\n",
      "Experimento 1 - 3.0 dias - 23.0:5.0:2\n"
     ]
    }
   ],
   "source": [
    "time_0 = df_boxing_v1['TIME'].iloc[-1] - df_boxing_v1['TIME'].iloc[0]\n",
    "time_1 = df_boxing_v2['TIME'].iloc[-1] - df_boxing_v2['TIME'].iloc[0]\n",
    "\n",
    "transform_time(time_0, 'Experimento 0')\n",
    "transform_time(time_1, 'Experimento 1')"
   ]
  }
 ],
 "metadata": {
  "kernelspec": {
   "display_name": "Python 3",
   "language": "python",
   "name": "python3"
  },
  "language_info": {
   "codemirror_mode": {
    "name": "ipython",
    "version": 3
   },
   "file_extension": ".py",
   "mimetype": "text/x-python",
   "name": "python",
   "nbconvert_exporter": "python",
   "pygments_lexer": "ipython3",
   "version": "3.6.13"
  }
 },
 "nbformat": 4,
 "nbformat_minor": 5
}
