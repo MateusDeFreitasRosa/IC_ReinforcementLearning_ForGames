{
 "cells": [
  {
   "cell_type": "code",
   "execution_count": 36,
   "metadata": {},
   "outputs": [],
   "source": [
    "from python_server_FCEUX import Server\n",
    "import matplotlib.pyplot as plt\n",
    "import json\n",
    "import numpy as np\n",
    "import cv2"
   ]
  },
  {
   "cell_type": "code",
   "execution_count": 37,
   "metadata": {},
   "outputs": [
    {
     "name": "stdout",
     "output_type": "stream",
     "text": [
      "Waiting connection from emulator...\n",
      "Connected:  <socket.socket fd=1236, family=AddressFamily.AF_INET, type=SocketKind.SOCK_STREAM, proto=0, laddr=('127.0.0.1', 12345), raddr=('127.0.0.1', 54838)>\n"
     ]
    }
   ],
   "source": [
    "server = Server()"
   ]
  },
  {
   "cell_type": "code",
   "execution_count": 8,
   "metadata": {},
   "outputs": [
    {
     "name": "stdout",
     "output_type": "stream",
     "text": [
      "LenImage: 454674\n"
     ]
    }
   ],
   "source": [
    "'''\n",
    "Get pixeis image.\n",
    "params: {(int) down_sample -> 1, (int) len_max_x -> 255, (int) len_max_y -> 239, (int) len_min_x -> 1,\n",
    "(int) len_min_x -> 1, (bool) grayscale -> False}\n",
    "\n",
    "'''\n",
    "image = server.sendCommandAndReceiveOperation(json.dumps({'operation': 'getScreenShot',\n",
    "          'params': {\n",
    "              'grayscale': False,\n",
    "              'down_sample': 1,\n",
    "              'len_min_y': 45,\n",
    "              'len_max_y': 230\n",
    "          }\n",
    "      }))\n",
    "print('LenImage: {}'.format(len(image)))\n",
    "#print(image)"
   ]
  },
  {
   "cell_type": "code",
   "execution_count": 23,
   "metadata": {},
   "outputs": [],
   "source": [
    "def printImage(image):\n",
    "    a = image.decode()\n",
    "    b = a.split('json')[1]\n",
    "    c = json.loads(b)\n",
    "    d = c['matriz']\n",
    "    e = np.asarray(d)\n",
    "    e\n",
    "    plt.imshow(e)\n",
    "    plt.show()"
   ]
  },
  {
   "cell_type": "code",
   "execution_count": 39,
   "metadata": {},
   "outputs": [
    {
     "name": "stdout",
     "output_type": "stream",
     "text": [
      "2.232059955596924\n"
     ]
    }
   ],
   "source": [
    "'''\n",
    "    Press Joypad\n",
    "'''\n",
    "import time\n",
    "begin = time.time()\n",
    "for i in range(100):\n",
    "    #time.sleep(1.0)\n",
    "    image = server.sendCommandAndReceiveOperation(json.dumps({'operation': 'getScreenShot',\n",
    "          'params': {\n",
    "              'grayscale': True,\n",
    "              'down_sample': 2,\n",
    "              'len_min_y': 45,\n",
    "              'len_max_y': 230\n",
    "          }\n",
    "      }))\n",
    "    #printImage(image)\n",
    "    '''server.sendCommandAndReceiveOperation(json.dumps({'operation': 'pressJoypad',\n",
    "          'params': {\n",
    "              'start': 's'\n",
    "          }\n",
    "      }))\n",
    "      '''\n",
    "end = time.time()\n",
    "print(end - begin)"
   ]
  },
  {
   "cell_type": "code",
   "execution_count": null,
   "metadata": {},
   "outputs": [],
   "source": []
  }
 ],
 "metadata": {
  "celltoolbar": "Raw Cell Format",
  "kernelspec": {
   "display_name": "Python 3",
   "language": "python",
   "name": "python3"
  },
  "language_info": {
   "codemirror_mode": {
    "name": "ipython",
    "version": 3
   },
   "file_extension": ".py",
   "mimetype": "text/x-python",
   "name": "python",
   "nbconvert_exporter": "python",
   "pygments_lexer": "ipython3",
   "version": "3.7.7"
  }
 },
 "nbformat": 4,
 "nbformat_minor": 4
}
