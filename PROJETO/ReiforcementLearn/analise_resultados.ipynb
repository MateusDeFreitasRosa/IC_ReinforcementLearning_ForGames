{
 "cells": [
  {
   "cell_type": "code",
   "execution_count": 14,
   "id": "255f4748",
   "metadata": {},
   "outputs": [],
   "source": [
    "import pandas as pd\n",
    "import numpy as np\n",
    "from matplotlib import pyplot as plt"
   ]
  },
  {
   "cell_type": "code",
   "execution_count": 15,
   "id": "08687c6b",
   "metadata": {},
   "outputs": [
    {
     "data": {
      "text/plain": [
       "(1040, 7)"
      ]
     },
     "execution_count": 15,
     "metadata": {},
     "output_type": "execute_result"
    }
   ],
   "source": [
    "df_pong_v1 = pd.read_csv('experiments/Pong-v1/df_results.csv')\n",
    "df_pong_v1.shape"
   ]
  },
  {
   "cell_type": "code",
   "execution_count": 16,
   "id": "e1ba7d1d",
   "metadata": {},
   "outputs": [
    {
     "data": {
      "text/plain": [
       "(446, 7)"
      ]
     },
     "execution_count": 16,
     "metadata": {},
     "output_type": "execute_result"
    }
   ],
   "source": [
    "df_pong = pd.read_csv('experiments/Pong/df_results.csv')\n",
    "df_pong.shape"
   ]
  },
  {
   "cell_type": "code",
   "execution_count": 22,
   "id": "6c9decaa",
   "metadata": {},
   "outputs": [
    {
     "data": {
      "text/html": [
       "<div>\n",
       "<style scoped>\n",
       "    .dataframe tbody tr th:only-of-type {\n",
       "        vertical-align: middle;\n",
       "    }\n",
       "\n",
       "    .dataframe tbody tr th {\n",
       "        vertical-align: top;\n",
       "    }\n",
       "\n",
       "    .dataframe thead th {\n",
       "        text-align: right;\n",
       "    }\n",
       "</style>\n",
       "<table border=\"1\" class=\"dataframe\">\n",
       "  <thead>\n",
       "    <tr style=\"text-align: right;\">\n",
       "      <th></th>\n",
       "      <th>REWARD</th>\n",
       "      <th>TRAIN</th>\n",
       "      <th>TIME</th>\n",
       "      <th>LOSS</th>\n",
       "      <th>EXPLORATION_RATE</th>\n",
       "      <th>FPS</th>\n",
       "      <th>LR</th>\n",
       "      <th>MEAN_REWARDS</th>\n",
       "    </tr>\n",
       "  </thead>\n",
       "  <tbody>\n",
       "    <tr>\n",
       "      <th>0</th>\n",
       "      <td>-20.0</td>\n",
       "      <td>1176.0</td>\n",
       "      <td>1.643772e+09</td>\n",
       "      <td>0.001247</td>\n",
       "      <td>0.98924</td>\n",
       "      <td>15</td>\n",
       "      <td>0.000090</td>\n",
       "      <td>-20.000000</td>\n",
       "    </tr>\n",
       "    <tr>\n",
       "      <th>1</th>\n",
       "      <td>-21.0</td>\n",
       "      <td>2389.0</td>\n",
       "      <td>1.643772e+09</td>\n",
       "      <td>0.001454</td>\n",
       "      <td>0.97711</td>\n",
       "      <td>15</td>\n",
       "      <td>0.000090</td>\n",
       "      <td>-20.500000</td>\n",
       "    </tr>\n",
       "    <tr>\n",
       "      <th>2</th>\n",
       "      <td>-21.0</td>\n",
       "      <td>3495.0</td>\n",
       "      <td>1.643772e+09</td>\n",
       "      <td>0.001427</td>\n",
       "      <td>0.96605</td>\n",
       "      <td>15</td>\n",
       "      <td>0.000089</td>\n",
       "      <td>-20.666667</td>\n",
       "    </tr>\n",
       "    <tr>\n",
       "      <th>3</th>\n",
       "      <td>-21.0</td>\n",
       "      <td>4747.0</td>\n",
       "      <td>1.643772e+09</td>\n",
       "      <td>0.001138</td>\n",
       "      <td>0.95353</td>\n",
       "      <td>14</td>\n",
       "      <td>0.000089</td>\n",
       "      <td>-20.750000</td>\n",
       "    </tr>\n",
       "    <tr>\n",
       "      <th>4</th>\n",
       "      <td>-21.0</td>\n",
       "      <td>5939.0</td>\n",
       "      <td>1.643772e+09</td>\n",
       "      <td>0.000991</td>\n",
       "      <td>0.94161</td>\n",
       "      <td>15</td>\n",
       "      <td>0.000088</td>\n",
       "      <td>-20.800000</td>\n",
       "    </tr>\n",
       "  </tbody>\n",
       "</table>\n",
       "</div>"
      ],
      "text/plain": [
       "   REWARD   TRAIN          TIME      LOSS  EXPLORATION_RATE  FPS        LR  \\\n",
       "0   -20.0  1176.0  1.643772e+09  0.001247           0.98924   15  0.000090   \n",
       "1   -21.0  2389.0  1.643772e+09  0.001454           0.97711   15  0.000090   \n",
       "2   -21.0  3495.0  1.643772e+09  0.001427           0.96605   15  0.000089   \n",
       "3   -21.0  4747.0  1.643772e+09  0.001138           0.95353   14  0.000089   \n",
       "4   -21.0  5939.0  1.643772e+09  0.000991           0.94161   15  0.000088   \n",
       "\n",
       "   MEAN_REWARDS  \n",
       "0    -20.000000  \n",
       "1    -20.500000  \n",
       "2    -20.666667  \n",
       "3    -20.750000  \n",
       "4    -20.800000  "
      ]
     },
     "execution_count": 22,
     "metadata": {},
     "output_type": "execute_result"
    }
   ],
   "source": [
    "df_pong_v1.head()"
   ]
  },
  {
   "cell_type": "code",
   "execution_count": 46,
   "id": "cf8fac45",
   "metadata": {},
   "outputs": [
    {
     "data": {
      "text/plain": [
       "<matplotlib.legend.Legend at 0x250822a5438>"
      ]
     },
     "execution_count": 46,
     "metadata": {},
     "output_type": "execute_result"
    },
    {
     "data": {
      "image/png": "[encoded data removed]",
      "text/plain": [
       "<Figure size 720x504 with 1 Axes>"
      ]
     },
     "metadata": {
      "needs_background": "light"
     },
     "output_type": "display_data"
    }
   ],
   "source": [
    "plt.figure(figsize=(10,7))\n",
    "plt.plot(df_pong_v1['TRAIN'], df_pong_v1['LR'], label='lr variável')\n",
    "plt.plot(df_pong['TRAIN'], df_pong['LR'], label='lr constante')\n",
    "plt.xlabel('Iterações de treino', fontsize=13)\n",
    "plt.ylabel('Média de recompensa', fontsize=13)\n",
    "plt.title('Learning rate experimentos', fontsize=18)\n",
    "plt.legend()"
   ]
  },
  {
   "cell_type": "markdown",
   "id": "fded08dc",
   "metadata": {},
   "source": [
    "### Ajustar informações de recompensas em uma escala mais linear"
   ]
  },
  {
   "cell_type": "code",
   "execution_count": 19,
   "id": "8c4f692c",
   "metadata": {},
   "outputs": [],
   "source": [
    "def norm(n):\n",
    "    0 if n<0 else n\n",
    "    \n",
    "mean_rewards_pong = []\n",
    "mean_rewards_pong_v1 = []\n",
    "interval=50\n",
    "for i in range(df_pong_v1.shape[0]):\n",
    "    mean_rewards_pong_v1.append(df_pong_v1.loc[norm(i-interval):i, 'REWARD'].mean())\n",
    "    \n",
    "for i in range(df_pong.shape[0]):\n",
    "    mean_rewards_pong.append(df_pong.loc[norm(i-interval):i, 'REWARD'].mean())\n",
    "    \n",
    "df_pong_v1['MEAN_REWARDS'] = mean_rewards_pong_v1\n",
    "df_pong['MEAN_REWARDS'] = mean_rewards_pong"
   ]
  },
  {
   "cell_type": "code",
   "execution_count": 47,
   "id": "ce41918b",
   "metadata": {},
   "outputs": [
    {
     "data": {
      "text/plain": [
       "<matplotlib.legend.Legend at 0x25082955710>"
      ]
     },
     "execution_count": 47,
     "metadata": {},
     "output_type": "execute_result"
    },
    {
     "data": {
      "image/png": "[encoded data removed]",
      "text/plain": [
       "<Figure size 720x504 with 1 Axes>"
      ]
     },
     "metadata": {
      "needs_background": "light"
     },
     "output_type": "display_data"
    }
   ],
   "source": [
    "\n",
    "plt.figure(figsize=(10,7))\n",
    "plt.plot(df_pong_v1['TRAIN'], df_pong_v1['MEAN_REWARDS'], label='lr variável')\n",
    "plt.plot(df_pong['TRAIN'], df_pong['MEAN_REWARDS'], label='lr constante')\n",
    "plt.xlabel('Iterações de treino', fontsize=13)\n",
    "plt.ylabel('Média de recompensa', fontsize=13)\n",
    "plt.title('Comparação Treinamento contante e linear', fontsize=18)\n",
    "plt.legend()"
   ]
  },
  {
   "cell_type": "code",
   "execution_count": 54,
   "id": "fd50abb0",
   "metadata": {},
   "outputs": [
    {
     "name": "stdout",
     "output_type": "stream",
     "text": [
      "Tempo - Experimento variável: 69.93621536778079\n",
      "Tempo - Experimento constante: 24.445828324953716\n"
     ]
    }
   ],
   "source": [
    "# Tempo gasto para os experimentos.\n",
    "\n",
    "print('Tempo - Experimento variável: {}'.format( (df_pong_v1['TIME'].iloc[-1] - df_pong_v1['TIME'].iloc[0]) / (60*60) ))\n",
    "print('Tempo - Experimento constante: {}'.format( (df_pong['TIME'].iloc[-1] - df_pong['TIME'].iloc[0]) / (60*60) ))"
   ]
  },
  {
   "cell_type": "code",
   "execution_count": 7,
   "id": "67cfb8e5",
   "metadata": {},
   "outputs": [],
   "source": [
    "start = list(df_results['TIME'])[0]\n",
    "end = list(df_results['TIME'])[-1]"
   ]
  },
  {
   "cell_type": "code",
   "execution_count": null,
   "id": "44b52c99",
   "metadata": {},
   "outputs": [],
   "source": [
    "((end - start) / 60) / 60"
   ]
  },
  {
   "cell_type": "code",
   "execution_count": null,
   "id": "6683c25e",
   "metadata": {},
   "outputs": [],
   "source": [
    "plt.plot(df_results['REWARD'])"
   ]
  },
  {
   "cell_type": "code",
   "execution_count": null,
   "id": "f5f16bf6",
   "metadata": {},
   "outputs": [],
   "source": []
  }
 ],
 "metadata": {
  "kernelspec": {
   "display_name": "Python 3",
   "language": "python",
   "name": "python3"
  },
  "language_info": {
   "codemirror_mode": {
    "name": "ipython",
    "version": 3
   },
   "file_extension": ".py",
   "mimetype": "text/x-python",
   "name": "python",
   "nbconvert_exporter": "python",
   "pygments_lexer": "ipython3",
   "version": "3.6.13"
  }
 },
 "nbformat": 4,
 "nbformat_minor": 5
}
