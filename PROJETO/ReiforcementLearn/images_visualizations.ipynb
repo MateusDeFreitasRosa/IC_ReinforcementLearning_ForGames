{
 "cells": [
  {
   "cell_type": "code",
   "execution_count": 1,
   "id": "cf33d5b7",
   "metadata": {},
   "outputs": [],
   "source": [
    "import gym\n",
    "import numpy as np\n",
    "import cv2\n",
    "import matplotlib.pyplot as plt"
   ]
  },
  {
   "cell_type": "code",
   "execution_count": 2,
   "id": "5aff2ac2",
   "metadata": {},
   "outputs": [],
   "source": [
    "# Abrindo imagens\n",
    "env = gym.make('Breakout-v0')\n",
    "\n",
    "state = env.reset()"
   ]
  },
  {
   "cell_type": "code",
   "execution_count": 3,
   "id": "e8274701",
   "metadata": {},
   "outputs": [],
   "source": [
    "def show_image(state):\n",
    "    %pylab inline\n",
    "    plt.axis(\"off\")\n",
    "    imgplot = plt.imshow(state)\n",
    "    plt.show()"
   ]
  },
  {
   "cell_type": "code",
   "execution_count": 4,
   "id": "dd37b540",
   "metadata": {},
   "outputs": [
    {
     "name": "stdout",
     "output_type": "stream",
     "text": [
      "Wall time: 0 ns\n"
     ]
    }
   ],
   "source": [
    "%%time\n",
    "\n",
    "def to_gray_scale(state):\n",
    "    return 0.299*state[:,:,0] + 0.587*state[:,:,1] + 0.114*state[:,:,2]"
   ]
  },
  {
   "cell_type": "code",
   "execution_count": 33,
   "id": "0b65b4b7",
   "metadata": {},
   "outputs": [],
   "source": [
    "crop_on_top                =              35\n",
    "crop_on_bottom             =              15\n",
    "crop_on_left               =              8\n",
    "crop_on_right              =              8\n",
    "\n",
    "def crop_img(img):\n",
    "        #return img[self.crop_on_top: -self.crop_on_bottom, self.crop_on_border:-self.crop_on_border]\n",
    "        return img[crop_on_top:-crop_on_bottom, crop_on_left:-crop_on_right]"
   ]
  },
  {
   "cell_type": "code",
   "execution_count": 34,
   "id": "ad2946fa",
   "metadata": {},
   "outputs": [],
   "source": [
    "for i in range(2):\n",
    "    state, reward, done, info = env.step(0)"
   ]
  },
  {
   "cell_type": "code",
   "execution_count": 35,
   "id": "bf74b153",
   "metadata": {
    "scrolled": true
   },
   "outputs": [
    {
     "name": "stdout",
     "output_type": "stream",
     "text": [
      "Populating the interactive namespace from numpy and matplotlib\n"
     ]
    },
    {
     "data": {
      "image/png": "[encoded data removed]",
      "text/plain": [
       "<Figure size 432x288 with 1 Axes>"
      ]
     },
     "metadata": {
      "needs_background": "light"
     },
     "output_type": "display_data"
    }
   ],
   "source": [
    "show_image(crop_img(state))"
   ]
  },
  {
   "cell_type": "code",
   "execution_count": 11,
   "id": "b7818e13",
   "metadata": {},
   "outputs": [
    {
     "name": "stdout",
     "output_type": "stream",
     "text": [
      "Populating the interactive namespace from numpy and matplotlib\n"
     ]
    },
    {
     "data": {
      "image/png": "[encoded data removed]",
      "text/plain": [
       "<Figure size 432x288 with 1 Axes>"
      ]
     },
     "metadata": {
      "needs_background": "light"
     },
     "output_type": "display_data"
    }
   ],
   "source": [
    "show_image(crop_img(state))"
   ]
  },
  {
   "cell_type": "code",
   "execution_count": null,
   "id": "912858f2",
   "metadata": {
    "scrolled": true
   },
   "outputs": [],
   "source": [
    "show_image(state)"
   ]
  },
  {
   "cell_type": "code",
   "execution_count": null,
   "id": "bfedaa13",
   "metadata": {},
   "outputs": [],
   "source": []
  }
 ],
 "metadata": {
  "kernelspec": {
   "display_name": "Python 3",
   "language": "python",
   "name": "python3"
  },
  "language_info": {
   "codemirror_mode": {
    "name": "ipython",
    "version": 3
   },
   "file_extension": ".py",
   "mimetype": "text/x-python",
   "name": "python",
   "nbconvert_exporter": "python",
   "pygments_lexer": "ipython3",
   "version": "3.6.13"
  }
 },
 "nbformat": 4,
 "nbformat_minor": 5
}
