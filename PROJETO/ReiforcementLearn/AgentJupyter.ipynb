{
 "cells": [
  {
   "cell_type": "code",
   "execution_count": 1,
   "id": "d443a7db",
   "metadata": {},
   "outputs": [
    {
     "name": "stderr",
     "output_type": "stream",
     "text": [
      "C:\\ana\\envs\\ReinforcementLearningOldVersion\\lib\\site-packages\\tensorflow\\python\\framework\\dtypes.py:526: FutureWarning: Passing (type, 1) or '1type' as a synonym of type is deprecated; in a future version of numpy, it will be understood as (type, (1,)) / '(1,)type'.\n",
      "  _np_qint8 = np.dtype([(\"qint8\", np.int8, 1)])\n",
      "C:\\ana\\envs\\ReinforcementLearningOldVersion\\lib\\site-packages\\tensorflow\\python\\framework\\dtypes.py:527: FutureWarning: Passing (type, 1) or '1type' as a synonym of type is deprecated; in a future version of numpy, it will be understood as (type, (1,)) / '(1,)type'.\n",
      "  _np_quint8 = np.dtype([(\"quint8\", np.uint8, 1)])\n",
      "C:\\ana\\envs\\ReinforcementLearningOldVersion\\lib\\site-packages\\tensorflow\\python\\framework\\dtypes.py:528: FutureWarning: Passing (type, 1) or '1type' as a synonym of type is deprecated; in a future version of numpy, it will be understood as (type, (1,)) / '(1,)type'.\n",
      "  _np_qint16 = np.dtype([(\"qint16\", np.int16, 1)])\n",
      "C:\\ana\\envs\\ReinforcementLearningOldVersion\\lib\\site-packages\\tensorflow\\python\\framework\\dtypes.py:529: FutureWarning: Passing (type, 1) or '1type' as a synonym of type is deprecated; in a future version of numpy, it will be understood as (type, (1,)) / '(1,)type'.\n",
      "  _np_quint16 = np.dtype([(\"quint16\", np.uint16, 1)])\n",
      "C:\\ana\\envs\\ReinforcementLearningOldVersion\\lib\\site-packages\\tensorflow\\python\\framework\\dtypes.py:530: FutureWarning: Passing (type, 1) or '1type' as a synonym of type is deprecated; in a future version of numpy, it will be understood as (type, (1,)) / '(1,)type'.\n",
      "  _np_qint32 = np.dtype([(\"qint32\", np.int32, 1)])\n",
      "C:\\ana\\envs\\ReinforcementLearningOldVersion\\lib\\site-packages\\tensorflow\\python\\framework\\dtypes.py:535: FutureWarning: Passing (type, 1) or '1type' as a synonym of type is deprecated; in a future version of numpy, it will be understood as (type, (1,)) / '(1,)type'.\n",
      "  np_resource = np.dtype([(\"resource\", np.ubyte, 1)])\n"
     ]
    }
   ],
   "source": [
    "from tensorflow.keras.models import Sequential"
   ]
  },
  {
   "cell_type": "code",
   "execution_count": 35,
   "id": "7d2e3219",
   "metadata": {
    "scrolled": true
   },
   "outputs": [],
   "source": [
    "import gym\n",
    "import numpy as np\n",
    "import cv2\n",
    "from keras.models import Sequential\n",
    "from keras.layers import Dense, Conv2D, MaxPooling2D, Flatten\n",
    "from keras.optimizers import Adam\n",
    "from plan_experiments import experiment_params\n",
    "from matplotlib import pyplot as plt"
   ]
  },
  {
   "cell_type": "code",
   "execution_count": 36,
   "id": "6a0b3211",
   "metadata": {},
   "outputs": [],
   "source": [
    "# Abrindo imagens\n",
    "env = gym.make('Pong-v0')\n",
    "\n",
    "state = env.reset()"
   ]
  },
  {
   "cell_type": "code",
   "execution_count": 37,
   "id": "65e9e861",
   "metadata": {},
   "outputs": [],
   "source": [
    "def show_image(state):\n",
    "    %pylab inline\n",
    "    import matplotlib.pyplot as plt\n",
    "    plt.axis(\"off\")\n",
    "    imgplot = plt.imshow(state)\n",
    "    plt.show()"
   ]
  },
  {
   "cell_type": "code",
   "execution_count": 38,
   "id": "471ba25b",
   "metadata": {},
   "outputs": [
    {
     "name": "stdout",
     "output_type": "stream",
     "text": [
      "Wall time: 0 ns\n"
     ]
    }
   ],
   "source": [
    "%%time\n",
    "\n",
    "def to_gray_scale(state):\n",
    "    return 0.299*state[:,:,0] + 0.587*state[:,:,1] + 0.114*state[:,:,2]"
   ]
  },
  {
   "cell_type": "code",
   "execution_count": 39,
   "id": "19e59891",
   "metadata": {},
   "outputs": [],
   "source": [
    "def rgb2gray(rgb):\n",
    "    return np.dot(rgb[...,:3], [0.2989, 0.5870, 0.1140])"
   ]
  },
  {
   "cell_type": "code",
   "execution_count": 40,
   "id": "5d6b36ea",
   "metadata": {},
   "outputs": [],
   "source": [
    "crop_on_top                =              35\n",
    "crop_on_bottom             =              16\n",
    "crop_on_left               =              7\n",
    "crop_on_right              =              7\n",
    "\n",
    "def crop_img(img):\n",
    "        #return img[self.crop_on_top: -self.crop_on_bottom, self.crop_on_border:-self.crop_on_border]\n",
    "        return img[crop_on_top:-crop_on_bottom, crop_on_left:-crop_on_right]"
   ]
  },
  {
   "cell_type": "code",
   "execution_count": 41,
   "id": "12d4447c",
   "metadata": {
    "scrolled": true
   },
   "outputs": [
    {
     "name": "stdout",
     "output_type": "stream",
     "text": [
      "Variable                 Type         Data/Info\n",
      "-----------------------------------------------\n",
      "Adam                     type         <class 'keras.optimizers.Adam'>\n",
      "Conv2D                   type         <class 'keras.layers.convolutional.Conv2D'>\n",
      "Dense                    type         <class 'keras.layers.core.Dense'>\n",
      "Flatten                  type         <class 'keras.layers.core.Flatten'>\n",
      "MaxPooling2D             type         <class 'keras.layers.pooling.MaxPooling2D'>\n",
      "Sequential               type         <class 'keras.engine.sequential.Sequential'>\n",
      "build_model              function     <function build_model at 0x0000011ACB7C80D0>\n",
      "crop_img                 function     <function crop_img at 0x0000011ACC9EB400>\n",
      "crop_on_bottom           int          16\n",
      "crop_on_left             int          7\n",
      "crop_on_right            int          7\n",
      "crop_on_top              int          35\n",
      "cv2                      module       <module 'cv2' from 'C:\\\\a<...>kages\\\\cv2\\\\__init__.py'>\n",
      "deque                    type         <class 'collections.deque'>\n",
      "env                      TimeLimit    <TimeLimit<AtariEnv<Pong-v0>>>\n",
      "experiment_params        dict         n=14\n",
      "grayscale                ndarray      80x80: 6400 elems, type `float64`, 51200 bytes\n",
      "grayscale_new            ndarray      80x80: 6400 elems, type `float64`, 51200 bytes\n",
      "grayscale_old            ndarray      80x80: 6400 elems, type `float64`, 51200 bytes\n",
      "gym                      module       <module 'gym' from 'C:\\\\a<...>kages\\\\gym\\\\__init__.py'>\n",
      "huber_loss               function     <function huber_loss at 0x0000011ACBA48268>\n",
      "huber_loss_mean          function     <function huber_loss_mean at 0x0000011ACB7C8AE8>\n",
      "i                        int          9999\n",
      "memory                   deque        deque([(array([[0.4196078<...>84]]), 1)], maxlen=10000)\n",
      "np                       module       <module 'numpy' from 'C:\\<...>ges\\\\numpy\\\\__init__.py'>\n",
      "pack_K_frames            function     <function pack_K_frames at 0x0000011ACBA481E0>\n",
      "plt                      module       <module 'matplotlib.pyplo<...>\\\\matplotlib\\\\pyplot.py'>\n",
      "preprocess_img           function     <function preprocess_img at 0x0000011ACB5FB268>\n",
      "preprocess_img_with_cv   function     <function preprocess_img_<...>cv at 0x0000011ACB5FB0D0>\n",
      "processed_img            ndarray      80x80: 6400 elems, type `float64`, 51200 bytes\n",
      "random                   module       <module 'random' from 'C:<...>Version\\\\lib\\\\random.py'>\n",
      "remember                 function     <function remember at 0x0000011ACBA48378>\n",
      "replay                   function     <function replay at 0x0000011ACBA48400>\n",
      "rgb2gray                 function     <function rgb2gray at 0x0000011ACC9EB510>\n",
      "show_image               function     <function show_image at 0x0000011ACC9EB2F0>\n",
      "state                    ndarray      210x160x3: 100800 elems, type `uint8`, 100800 bytes (98.4375 kb)\n",
      "tf                       module       <module 'tensorflow' from<...>tensorflow\\\\__init__.py'>\n",
      "time                     module       <module 'time' (built-in)>\n",
      "to_gray_scale            function     <function to_gray_scale at 0x0000011ACA86DA60>\n"
     ]
    }
   ],
   "source": [
    "whos"
   ]
  },
  {
   "cell_type": "markdown",
   "id": "73cd4cb6",
   "metadata": {},
   "source": [
    "## Testando duas maneiras de pré-processamento de imagem"
   ]
  },
  {
   "cell_type": "code",
   "execution_count": 42,
   "id": "c9c3d29d",
   "metadata": {},
   "outputs": [],
   "source": [
    "# WORST WAY\n",
    "\n",
    "def preprocess_img(img):        \n",
    "        return to_gray_scale(cv2.resize(crop_img(img), (80,80), interpolation=cv2.INTER_AREA)) / 255"
   ]
  },
  {
   "cell_type": "code",
   "execution_count": 43,
   "id": "e230edb2",
   "metadata": {},
   "outputs": [],
   "source": [
    "## BEST WAY !!!\n",
    "\n",
    "def preprocess_img_with_cv(img):\n",
    "    return np.divide(cv2.cvtColor(cv2.resize(crop_img(state) , (80,80), interpolation=cv2.INTER_AREA), cv2.COLOR_RGB2GRAY ), 255)"
   ]
  },
  {
   "cell_type": "code",
   "execution_count": null,
   "id": "8a40d894",
   "metadata": {},
   "outputs": [],
   "source": []
  },
  {
   "cell_type": "code",
   "execution_count": 44,
   "id": "9469354a",
   "metadata": {},
   "outputs": [],
   "source": [
    "grayscale_old = preprocess_img(state)\n",
    "grayscale_new = preprocess_img_with_cv(state)"
   ]
  },
  {
   "cell_type": "code",
   "execution_count": 45,
   "id": "d3312487",
   "metadata": {},
   "outputs": [
    {
     "data": {
      "text/plain": [
       "<matplotlib.image.AxesImage at 0x11acbc05358>"
      ]
     },
     "execution_count": 45,
     "metadata": {},
     "output_type": "execute_result"
    },
    {
     "data": {
      "image/png": "[encoded data removed]",
      "text/plain": [
       "<Figure size 432x288 with 1 Axes>"
      ]
     },
     "metadata": {
      "needs_background": "light"
     },
     "output_type": "display_data"
    }
   ],
   "source": [
    "plt.imshow(grayscale_new, cmap='gray')"
   ]
  },
  {
   "cell_type": "code",
   "execution_count": 46,
   "id": "ed084df1",
   "metadata": {},
   "outputs": [
    {
     "data": {
      "text/plain": [
       "<matplotlib.image.AxesImage at 0x11acc288748>"
      ]
     },
     "execution_count": 46,
     "metadata": {},
     "output_type": "execute_result"
    },
    {
     "data": {
      "image/png": "[encoded data removed]",
      "text/plain": [
       "<Figure size 432x288 with 1 Axes>"
      ]
     },
     "metadata": {
      "needs_background": "light"
     },
     "output_type": "display_data"
    }
   ],
   "source": [
    "plt.imshow(grayscale_old, cmap='gray')"
   ]
  },
  {
   "cell_type": "code",
   "execution_count": 47,
   "id": "30decd09",
   "metadata": {},
   "outputs": [
    {
     "name": "stdout",
     "output_type": "stream",
     "text": [
      "Wall time: 2.54 s\n"
     ]
    }
   ],
   "source": [
    "%%time\n",
    "\n",
    "# Testando a maneira que estamos aplicando a IC.\n",
    "\n",
    "for i in range(10000):\n",
    "    grayscale = preprocess_img(state)"
   ]
  },
  {
   "cell_type": "code",
   "execution_count": 48,
   "id": "08b91e2a",
   "metadata": {},
   "outputs": [
    {
     "name": "stdout",
     "output_type": "stream",
     "text": [
      "Wall time: 2.18 s\n"
     ]
    }
   ],
   "source": [
    "%%time\n",
    "for i in range(10000):\n",
    "    grayscale = preprocess_img_with_cv(state)"
   ]
  },
  {
   "cell_type": "markdown",
   "id": "79e3d798",
   "metadata": {},
   "source": [
    "## Tentativa de otimização no processo de treinamento da rede neural."
   ]
  },
  {
   "cell_type": "code",
   "execution_count": 49,
   "id": "06693a2c",
   "metadata": {},
   "outputs": [],
   "source": [
    "## Importações necessárias\n",
    "import random\n",
    "import tensorflow as tf\n",
    "from plan_experiments import experiment_params\n",
    "import time"
   ]
  },
  {
   "cell_type": "code",
   "execution_count": 50,
   "id": "e4c08650",
   "metadata": {},
   "outputs": [
    {
     "name": "stdout",
     "output_type": "stream",
     "text": [
      "Please install GPU version of TF\n"
     ]
    }
   ],
   "source": [
    "import tensorflow as tf \n",
    "\n",
    "if tf.test.gpu_device_name(): \n",
    "\n",
    "    print('Default GPU Device: {}'.format(tf.test.gpu_device_name()))\n",
    "\n",
    "else:\n",
    "    print(\"Please install GPU version of TF\")"
   ]
  },
  {
   "cell_type": "code",
   "execution_count": 19,
   "id": "ceb47686",
   "metadata": {},
   "outputs": [
    {
     "ename": "AttributeError",
     "evalue": "module 'tensorflow' has no attribute 'config'",
     "output_type": "error",
     "traceback": [
      "\u001b[1;31m---------------------------------------------------------------------------\u001b[0m",
      "\u001b[1;31mAttributeError\u001b[0m                            Traceback (most recent call last)",
      "\u001b[1;32m<ipython-input-19-659b71ab71e1>\u001b[0m in \u001b[0;36m<module>\u001b[1;34m\u001b[0m\n\u001b[1;32m----> 1\u001b[1;33m \u001b[0mprint\u001b[0m\u001b[1;33m(\u001b[0m\u001b[1;34m\"Num GPUs Available: \"\u001b[0m\u001b[1;33m,\u001b[0m \u001b[0mlen\u001b[0m\u001b[1;33m(\u001b[0m\u001b[0mtf\u001b[0m\u001b[1;33m.\u001b[0m\u001b[0mconfig\u001b[0m\u001b[1;33m.\u001b[0m\u001b[0mlist_physical_devices\u001b[0m\u001b[1;33m(\u001b[0m\u001b[1;34m'GPU'\u001b[0m\u001b[1;33m)\u001b[0m\u001b[1;33m)\u001b[0m\u001b[1;33m)\u001b[0m\u001b[1;33m\u001b[0m\u001b[1;33m\u001b[0m\u001b[0m\n\u001b[0m",
      "\u001b[1;31mAttributeError\u001b[0m: module 'tensorflow' has no attribute 'config'"
     ]
    }
   ],
   "source": [
    "print(\"Num GPUs Available: \", len(tf.config.list_physical_devices('GPU')))"
   ]
  },
  {
   "cell_type": "code",
   "execution_count": 51,
   "id": "2bbae071",
   "metadata": {},
   "outputs": [],
   "source": [
    "def huber_loss(y_true, y_pred, clip_delta=1.0):\n",
    "    error = y_true - y_pred\n",
    "    cond  = tf.keras.backend.abs(error) < clip_delta\n",
    "\n",
    "    squared_loss = 0.5 * tf.keras.backend.square(error)\n",
    "    linear_loss  = clip_delta * (tf.keras.backend.abs(error) - 0.5 * clip_delta)\n",
    "\n",
    "    return tf.where(cond, squared_loss, linear_loss)\n",
    "\n",
    "'''\n",
    " ' Same as above but returns the mean loss.\n",
    "'''\n",
    "def huber_loss_mean(y_true, y_pred, clip_delta=1.0):\n",
    "    return tf.keras.backend.mean(huber_loss(y_true, y_pred, clip_delta))\n",
    "\n",
    "def build_model():\n",
    "        \n",
    "        # Neural Net for Deep-Q learning Model\n",
    "        model = Sequential()\n",
    "\n",
    "\n",
    "        ## Create structure of convolucional network.\n",
    "        structure_convolucional = experiment_params['structure_neural_network']['conv']\n",
    "\n",
    "        for conv in structure_convolucional:\n",
    "            model.add(Conv2D(conv['filter'], conv['kernel_size'], strides=conv['strides'],  input_shape = (80, 80, 4),\n",
    "                             activation=conv['activation'], padding=conv['padding']))\n",
    "\n",
    "        model.add(Flatten()) # Transform image resulting of convolution to 1 dimension\n",
    "\n",
    "        ## Create structure of neural network.\n",
    "        structure_nn = experiment_params['structure_neural_network']['neural_network']\n",
    "\n",
    "        for nn in structure_nn:\n",
    "            k_init = nn['kernel_initializer'] if 'kernel_initializer' in nn else 'glorot_uniform'\n",
    "            model.add(Dense(nn['neurons'], activation=nn['activation'], kernel_initializer=k_init))\n",
    "\n",
    "        model.add(Dense(4, activation='linear'))\n",
    "        model.compile(loss=huber_loss_mean, optimizer=Adam(lr=.0001))\n",
    "\n",
    "        model.summary()\n",
    "        return model"
   ]
  },
  {
   "cell_type": "code",
   "execution_count": 52,
   "id": "2186023d",
   "metadata": {},
   "outputs": [],
   "source": [
    "    def pack_K_frames(sample_batch_size):\n",
    "        \n",
    "        state = np.empty((sample_batch_size, 4, 80, 80))\n",
    "        action = np.empty(sample_batch_size, dtype=np.uint8)\n",
    "        reward = np.empty(sample_batch_size, dtype=np.float32)\n",
    "        next_state = np.empty((sample_batch_size, 4, 80, 80))\n",
    "        done = np.empty(sample_batch_size, dtype=bool)\n",
    "        \n",
    "\n",
    "        for k in range(sample_batch_size):\n",
    "            index = random.randint(0, len(memory)-4-2)\n",
    "            \n",
    "            for i, idx_memory in enumerate(range(index, index+4)):\n",
    "                s, a, r, n_s, d = memory[idx_memory]\n",
    "            \n",
    "                state[k][i] = s\n",
    "                next_state[k][i] = n_s\n",
    "                \n",
    "            done[k] = d\n",
    "            action[k] = a\n",
    "            reward[k] = r\n",
    "            \n",
    "        #State = (32,4,84,84)  -> State Transpose = (32,84,84,4) \n",
    "        return np.transpose(state, axes=(0,2,3,1)), action, reward, np.transpose(next_state, axes=(0,2,3,1)), done"
   ]
  },
  {
   "cell_type": "code",
   "execution_count": 53,
   "id": "e67436f9",
   "metadata": {},
   "outputs": [],
   "source": [
    " def replay(sample_batch_size):\n",
    "    \n",
    "    soma = 0\n",
    "    t = time.time()\n",
    "    #sample_batch = random.sample(self.memory, sample_batch_size)\n",
    "    state, action, reward, next_state, done = pack_K_frames(sample_batch_size)\n",
    "    time_pack_K_frames = time.time() - t\n",
    "    t = time.time()\n",
    "    \n",
    "    t = time.time()\n",
    "    with tf.device('/gpu:0'):\n",
    "        predicted = brain_target.predict(next_state) #Previsão proximo estado.\n",
    "    time_predicted = time.time() - t\n",
    "    t = time.time()\n",
    "    with tf.device('/gpu:0'):\n",
    "        target_f = brain.predict(state) #Previsão estado atual.\n",
    "    time_target_f = time.time() - t\n",
    "    t = time.time()\n",
    "        \n",
    "    for i in range(sample_batch_size):\n",
    "        target = reward[i] + (.99 * np.amax(predicted[i]) * (1-done[i]))\n",
    "        target_f[i][action[i]] = target\n",
    "    \n",
    "    time_calc = time.time() - t\n",
    "    t = time.time()\n",
    "    \n",
    "    with tf.device('/gpu:0'):\n",
    "        brain.fit(state, target_f, batch_size=sample_batch_size, epochs=1, verbose=0, shuffle=False)\n",
    "    time_fit = time.time() - t\n",
    "    \n",
    "    soma = (time_predicted + time_calc + time_fit + time_target_f + time_pack_K_frames)\n",
    "    time_predicted = (time_predicted / soma)*100\n",
    "    time_target_f = (time_target_f / soma)*100\n",
    "    time_calc = (time_calc / soma)*100\n",
    "    time_fit = (time_fit / soma)*100\n",
    "    time_pack_K_frames = (time_pack_K_frames / soma)*100\n",
    "    \n",
    "#     print('K_frames: {}\\nPredicted: {}\\nTarget_F: {}\\nCalc: {}\\nFit: {}'.format(time_pack_K_frames, \n",
    "#                                                                                 time_predicted, \n",
    "#                                                                                 time_target_f, \n",
    "#                                                                                 time_calc, \n",
    "#                                                                                 time_fit))\n",
    "    \n",
    "    \n",
    "    return"
   ]
  },
  {
   "cell_type": "code",
   "execution_count": 90,
   "id": "14edf99c",
   "metadata": {
    "scrolled": true
   },
   "outputs": [
    {
     "name": "stdout",
     "output_type": "stream",
     "text": [
      "_________________________________________________________________\n",
      "Layer (type)                 Output Shape              Param #   \n",
      "=================================================================\n",
      "conv2d_46 (Conv2D)           (None, 19, 19, 32)        8224      \n",
      "_________________________________________________________________\n",
      "conv2d_47 (Conv2D)           (None, 8, 8, 64)          32832     \n",
      "_________________________________________________________________\n",
      "conv2d_48 (Conv2D)           (None, 6, 6, 64)          36928     \n",
      "_________________________________________________________________\n",
      "flatten_16 (Flatten)         (None, 2304)              0         \n",
      "_________________________________________________________________\n",
      "dense_61 (Dense)             (None, 512)               1180160   \n",
      "_________________________________________________________________\n",
      "dense_62 (Dense)             (None, 256)               131328    \n",
      "_________________________________________________________________\n",
      "dense_63 (Dense)             (None, 64)                16448     \n",
      "_________________________________________________________________\n",
      "dense_64 (Dense)             (None, 4)                 260       \n",
      "=================================================================\n",
      "Total params: 1,406,180\n",
      "Trainable params: 1,406,180\n",
      "Non-trainable params: 0\n",
      "_________________________________________________________________\n",
      "_________________________________________________________________\n",
      "Layer (type)                 Output Shape              Param #   \n",
      "=================================================================\n",
      "conv2d_49 (Conv2D)           (None, 19, 19, 32)        8224      \n",
      "_________________________________________________________________\n",
      "conv2d_50 (Conv2D)           (None, 8, 8, 64)          32832     \n",
      "_________________________________________________________________\n",
      "conv2d_51 (Conv2D)           (None, 6, 6, 64)          36928     \n",
      "_________________________________________________________________\n",
      "flatten_17 (Flatten)         (None, 2304)              0         \n",
      "_________________________________________________________________\n",
      "dense_65 (Dense)             (None, 512)               1180160   \n",
      "_________________________________________________________________\n",
      "dense_66 (Dense)             (None, 256)               131328    \n",
      "_________________________________________________________________\n",
      "dense_67 (Dense)             (None, 64)                16448     \n",
      "_________________________________________________________________\n",
      "dense_68 (Dense)             (None, 4)                 260       \n",
      "=================================================================\n",
      "Total params: 1,406,180\n",
      "Trainable params: 1,406,180\n",
      "Non-trainable params: 0\n",
      "_________________________________________________________________\n",
      "Wall time: 922 ms\n"
     ]
    }
   ],
   "source": [
    "%%time\n",
    "\n",
    "from collections import deque\n",
    "\n",
    "def remember(state, action, reward, next_state, done):        \n",
    "    memory.append((processed_img, action, reward, processed_img, done))\n",
    "\n",
    "    \n",
    "    \n",
    "memory = deque(maxlen=1000000)\n",
    "processed_img = preprocess_img_with_cv(state)\n",
    "    \n",
    "## Carregamento de memória apenas para test.\n",
    "for i in range(2000000):\n",
    "    remember(processed_img, 1, 1, processed_img, 1)\n",
    "\n",
    "brain = build_model()\n",
    "brain_target = build_model()\n"
   ]
  },
  {
   "cell_type": "code",
   "execution_count": 91,
   "id": "6a34afd0",
   "metadata": {
    "scrolled": false
   },
   "outputs": [
    {
     "name": "stdout",
     "output_type": "stream",
     "text": [
      "Wall time: 2.57 s\n"
     ]
    }
   ],
   "source": [
    "%%time\n",
    "replay(32)"
   ]
  },
  {
   "cell_type": "code",
   "execution_count": 76,
   "id": "7a00fdcb",
   "metadata": {},
   "outputs": [
    {
     "name": "stdout",
     "output_type": "stream",
     "text": [
      "Wall time: 3.97 s\n"
     ]
    }
   ],
   "source": [
    "%%time\n",
    "for i in range(50):\n",
    "    replay(32)"
   ]
  },
  {
   "cell_type": "markdown",
   "id": "2166cd7d",
   "metadata": {},
   "source": [
    "### Verificar gasto de memória"
   ]
  },
  {
   "cell_type": "code",
   "execution_count": 77,
   "id": "5eb474e9",
   "metadata": {},
   "outputs": [],
   "source": [
    "import sys"
   ]
  },
  {
   "cell_type": "code",
   "execution_count": 78,
   "id": "a65aebe9",
   "metadata": {},
   "outputs": [
    {
     "data": {
      "text/plain": [
       "[<tf.Variable 'conv2d_16/kernel:0' shape=(8, 8, 4, 32) dtype=float32_ref>,\n",
       " <tf.Variable 'conv2d_16/bias:0' shape=(32,) dtype=float32_ref>,\n",
       " <tf.Variable 'conv2d_17/kernel:0' shape=(4, 4, 32, 64) dtype=float32_ref>,\n",
       " <tf.Variable 'conv2d_17/bias:0' shape=(64,) dtype=float32_ref>,\n",
       " <tf.Variable 'conv2d_18/kernel:0' shape=(3, 3, 64, 64) dtype=float32_ref>,\n",
       " <tf.Variable 'conv2d_18/bias:0' shape=(64,) dtype=float32_ref>,\n",
       " <tf.Variable 'dense_21/kernel:0' shape=(2304, 512) dtype=float32_ref>,\n",
       " <tf.Variable 'dense_21/bias:0' shape=(512,) dtype=float32_ref>,\n",
       " <tf.Variable 'dense_22/kernel:0' shape=(512, 256) dtype=float32_ref>,\n",
       " <tf.Variable 'dense_22/bias:0' shape=(256,) dtype=float32_ref>,\n",
       " <tf.Variable 'dense_23/kernel:0' shape=(256, 64) dtype=float32_ref>,\n",
       " <tf.Variable 'dense_23/bias:0' shape=(64,) dtype=float32_ref>,\n",
       " <tf.Variable 'dense_24/kernel:0' shape=(64, 4) dtype=float32_ref>,\n",
       " <tf.Variable 'dense_24/bias:0' shape=(4,) dtype=float32_ref>]"
      ]
     },
     "execution_count": 78,
     "metadata": {},
     "output_type": "execute_result"
    }
   ],
   "source": [
    "brain.weights"
   ]
  },
  {
   "cell_type": "code",
   "execution_count": 96,
   "id": "018dd339",
   "metadata": {
    "scrolled": true
   },
   "outputs": [
    {
     "data": {
      "text/plain": [
       "8057.2578125"
      ]
     },
     "execution_count": 96,
     "metadata": {},
     "output_type": "execute_result"
    }
   ],
   "source": [
    "sys.getsizeof(memory) / 1024"
   ]
  },
  {
   "cell_type": "code",
   "execution_count": 105,
   "id": "34e7ec5a",
   "metadata": {
    "scrolled": true
   },
   "outputs": [
    {
     "data": {
      "text/plain": [
       "192"
      ]
     },
     "execution_count": 105,
     "metadata": {},
     "output_type": "execute_result"
    }
   ],
   "source": [
    "sys.getsizeof(brain.get_weights())"
   ]
  },
  {
   "cell_type": "code",
   "execution_count": 115,
   "id": "4099abbf",
   "metadata": {},
   "outputs": [
    {
     "data": {
      "text/plain": [
       "36686.8515625"
      ]
     },
     "execution_count": 115,
     "metadata": {},
     "output_type": "execute_result"
    }
   ],
   "source": [
    "params = 1832294\n",
    "(((8*params) / 1024) * 2) + (sys.getsizeof(memory) / 1024)"
   ]
  },
  {
   "cell_type": "code",
   "execution_count": 116,
   "id": "06c7e83c",
   "metadata": {},
   "outputs": [
    {
     "data": {
      "text/plain": [
       "30030.8515625"
      ]
     },
     "execution_count": 116,
     "metadata": {},
     "output_type": "execute_result"
    }
   ],
   "source": [
    "params = 1406310\n",
    "(((8*params) / 1024) * 2) + (sys.getsizeof(memory) / 1024)"
   ]
  },
  {
   "cell_type": "code",
   "execution_count": 94,
   "id": "3adf8093",
   "metadata": {},
   "outputs": [
    {
     "data": {
      "text/plain": [
       "1000000"
      ]
     },
     "execution_count": 94,
     "metadata": {},
     "output_type": "execute_result"
    }
   ],
   "source": [
    "len(memory)"
   ]
  },
  {
   "cell_type": "markdown",
   "id": "2f1efbab",
   "metadata": {},
   "source": [
    "##### Tempos de execução:\n",
    "\n",
    "- 2,81\n",
    "- 2,54\n",
    "- 2,57\n",
    "- 2,59"
   ]
  },
  {
   "cell_type": "code",
   "execution_count": null,
   "id": "dea42955",
   "metadata": {},
   "outputs": [],
   "source": [
    "# -*- coding: utf-8 -*-\n",
    "\"\"\"\n",
    "Created on Thu Mar 26 10:10:11 2020\n",
    "\n",
    "@author: mateu\n",
    "\"\"\"\n",
    "\n",
    "import gym\n",
    "import cv2\n",
    "import numpy as np\n",
    "from collections import deque\n",
    "from tensorflow.keras.models import Sequential\n",
    "from tensorflow.keras.layers import Dense, Conv2D, MaxPooling2D, Flatten\n",
    "from tensorflow.keras.optimizers import Adam\n",
    "import os\n",
    "import random\n",
    "import matplotlib.pyplot as plt\n",
    "import pickle\n",
    "import time\n",
    "import imageio\n",
    "from plan_experiments import experiment_params\n",
    "import pandas as pd\n",
    "import itertools\n",
    "\n",
    "\n",
    "from multiprocessing.pool import ThreadPool\n",
    "\n",
    "\n",
    "######################################################################################################################################\n",
    "#import tensorflow as tf\n",
    "#import keras.backend.tensorflow_backend as tfback\n",
    "\n",
    "#print(\"tf.__version__ is\", tf.__version__)\n",
    "#print(\"tf.keras.__version__ is:\", tf.keras.__version__)\n",
    "\n",
    "#def _get_available_gpus():\n",
    "#    \"\"\"Get a list of available gpu devices (formatted as strings).\n",
    "#\n",
    "#    # Returns\n",
    "#        A list of available GPU devices.\n",
    "#   \"\"\"\n",
    "    #global _LOCAL_DEVICES\n",
    "#    if tfback._LOCAL_DEVICES is None:\n",
    "#        devices = tf.config.list_logical_devices()\n",
    "#        tfback._LOCAL_DEVICES = [x.name for x in devices]\n",
    "#    return [x for x in tfback._LOCAL_DEVICES if 'device:gpu' in x.lower()]\n",
    "\n",
    "#print(_get_available_gpus())\n",
    "#tfback._get_available_gpus = _get_available_gpus\n",
    "\n",
    "####VERIFY IF GPU IS RUNNING.\n",
    "#print(device_lib.list_local_devices())\n",
    "#from keras import backend as K\n",
    "#K.tensorflow_backend._get_available_gpus()\n",
    "#import keras\n",
    "\n",
    "#import tensorflow.compat.v1 as tf1\n",
    "\n",
    "'''\n",
    "config = tf1.ConfigProto( device_count = {'GPU': 1 , 'CPU': 4} ) \n",
    "sess = tf1.Session(config=config) \n",
    "tf.compat.v1.keras.backend.set_session(sess)\n",
    "'''\n",
    "\n",
    "######################################################################################################################################\n",
    "\n",
    "import numpy as np\n",
    "import tensorflow as tf\n",
    "\n",
    "'''\n",
    " ' Huber loss.\n",
    " ' https://jaromiru.com/2017/05/27/on-using-huber-loss-in-deep-q-learning/\n",
    " ' https://en.wikipedia.org/wiki/Huber_loss\n",
    "'''\n",
    "def huber_loss(y_true, y_pred, clip_delta=1.0):\n",
    "  error = y_true - y_pred\n",
    "  cond  = tf.keras.backend.abs(error) < clip_delta\n",
    "\n",
    "  squared_loss = 0.5 * tf.keras.backend.square(error)\n",
    "  linear_loss  = clip_delta * (tf.keras.backend.abs(error) - 0.5 * clip_delta)\n",
    "\n",
    "  return tf.where(cond, squared_loss, linear_loss)\n",
    "\n",
    "'''\n",
    " ' Same as above but returns the mean loss.\n",
    "'''\n",
    "def huber_loss_mean(y_true, y_pred, clip_delta=1.0):\n",
    "  return tf.keras.backend.mean(huber_loss(y_true, y_pred, clip_delta))\n",
    "\n",
    "score = []\n",
    "\n",
    "TRAIN = True\n",
    "OBSERVER = 100\n",
    "UPDATE_TARGET_MODEL = experiment_params['freq_update_nn']\n",
    "qntUpdate=0\n",
    "tamMemoryK = 100 # O tamanho da memoria será esse valor multiplicado por 1000.\n",
    "\n",
    "game = experiment_params['game']\n",
    "total_reward_game = []\n",
    "\n",
    "\n",
    "## List to save in dataframe.\n",
    "reward_current_episode = []\n",
    "train_current_episode = []\n",
    "current_time_episode = []\n",
    "average_loss = []\n",
    "average_fps_current_episode = []\n",
    "current_exploration = []\n",
    "\n",
    "resultado = []\n",
    "\n",
    "class Agent(): \n",
    "    def __init__(self, state_size, action_size):\n",
    "        self.weight_backup              =       experiment_params['dirs']['dir_model']+experiment_params['game']+\".h5\"\n",
    "        self.state_size                 =       state_size\n",
    "        self.action_size                =       action_size\n",
    "        self.memory                     =       deque(maxlen=experiment_params['params_agent']['memory_size']) if TRAIN else deque(maxlen=5)\n",
    "        self.learning_rate              =       experiment_params['params_agent']['learning_rate']\n",
    "        self.gamma                      =       experiment_params['params_agent']['gamma']\n",
    "        self.exploration_rate           =       experiment_params['params_agent']['exploration_rate']\n",
    "        self.exploration_min            =       experiment_params['params_agent']['exploration_min']\n",
    "        self.exploration_decay          =       experiment_params['params_agent']['exploration_decay']\n",
    "        self.k_frames                   =       experiment_params['params_agent']['k_frames']\n",
    "        self.frame_height               =       self.state_size[0]\n",
    "        self.frame_width                =       self.state_size[1]\n",
    "        self.brain                      =       self._build_model()\n",
    "        self.brain_target               =       self._build_model()\n",
    "        self.freq_update_nn             =       experiment_params['freq_update_nn']\n",
    "\n",
    "\n",
    "    def _build_model(self):\n",
    "        #with tf.device('/gpu:0'):\n",
    "        # Neural Net for Deep-Q learning Model\n",
    "        model = Sequential()\n",
    "            \n",
    "        \n",
    "        ## Create structure of convolucional network.\n",
    "        structure_convolucional = experiment_params['structure_neural_network']['conv']\n",
    "        \n",
    "        for conv in structure_convolucional:\n",
    "            model.add(Conv2D(conv['filter'], conv['kernel_size'], strides=conv['strides'],  input_shape = (self.state_size[0], self.state_size[1], self.k_frames),\n",
    "                             activation=conv['activation'], padding=conv['padding']))\n",
    "        \n",
    "        model.add(Flatten()) # Transform image resulting of convolution to 1 dimension\n",
    "        \n",
    "        ## Create structure of neural network.\n",
    "        structure_nn = experiment_params['structure_neural_network']['neural_network']\n",
    "        \n",
    "        for nn in structure_nn:\n",
    "            k_init = nn['kernel_initializer'] if 'kernel_initializer' in nn else 'glorot_uniform'\n",
    "            model.add(Dense(nn['neurons'], activation=nn['activation'], kernel_initializer=k_init))\n",
    "            \n",
    "        model.add(Dense(self.action_size, activation='linear'))\n",
    "        model.compile(loss=huber_loss_mean, optimizer=Adam(learning_rate=self.learning_rate))\n",
    "            \n",
    "        model.summary()\n",
    "        if self.has_load_data():\n",
    "            model.load_weights(self.weight_backup)\n",
    "            self.exploration_rate = self.exploration_min\n",
    "        return model\n",
    "    \n",
    "    \n",
    "    def has_load_data(self):\n",
    "        global data_average_reward, total_reward_game, trainsPerEpisode\n",
    "        if os.path.isfile(self.weight_backup):\n",
    "            return True\n",
    "        return False\n",
    "    \n",
    "    def save_model(self):\n",
    "        self.brain.save(self.weight_backup)\n",
    "        \n",
    "            \n",
    "    def get_last_k_frames(self, state):\n",
    "        frames = np.empty((self.k_frames, self.frame_height, self.frame_width))\n",
    "\n",
    "        for i in range(0, self.k_frames):\n",
    "            _, _, _, n_s, _ = self.memory[len(self.memory)-(self.k_frames-i)]\n",
    "            frames[i] = n_s\n",
    "            \n",
    "        return np.transpose(frames, axes=(1,2,0))\n",
    "\n",
    "    def act(self, state):\n",
    "        if np.random.rand() <= self.exploration_rate or len(self.memory) < self.k_frames+1:\n",
    "            return random.randrange(self.action_size)\n",
    "        \n",
    "        k_frames_state = self.get_last_k_frames(state)\n",
    "        k_frames_state = np.expand_dims(k_frames_state, axis=0)\n",
    "        act_values = self.brain.predict(k_frames_state)\n",
    "        return np.argmax(act_values[0])\n",
    "\n",
    "    def remember(self, state, action, reward, next_state, done):        \n",
    "        self.memory.append((state, action, reward, next_state, done))      \n",
    "\n",
    "\n",
    "    def pack_K_frames(self, sample_batch_size):\n",
    "        global resultado\n",
    "        if len(self.memory) < self.k_frames+2:\n",
    "            return\n",
    "        \n",
    "        state = np.empty((sample_batch_size, self.k_frames, self.frame_height, self.frame_width))\n",
    "        action = np.empty(sample_batch_size, dtype=np.uint8)\n",
    "        reward = np.empty(sample_batch_size, dtype=np.float32)\n",
    "        next_state = np.empty((sample_batch_size, self.k_frames, self.frame_height, self.frame_width))\n",
    "        done = np.empty(sample_batch_size, dtype=np.bool)\n",
    "        \n",
    "\n",
    "        for k in range(sample_batch_size):\n",
    "            index = random.randint(0, len(self.memory)-self.k_frames-2)\n",
    "            \n",
    "            for i, idx_memory in enumerate(range(index, index+self.k_frames)):\n",
    "                s, a, r, n_s, d = self.memory[idx_memory]\n",
    "            \n",
    "                state[k][i] = s\n",
    "                next_state[k][i] = n_s\n",
    "                \n",
    "            done[k] = d\n",
    "            action[k] = a\n",
    "            reward[k] = r\n",
    "            \n",
    "           \n",
    "        #State = (32,4,84,84)  -> State Transpose = (32,84,84,4) \n",
    "        return np.transpose(state, axes=(0,2,3,1)), action, reward, np.transpose(next_state, axes=(0,2,3,1)), done\n",
    "        \n",
    "\n",
    "    def replay(self, sample_batch_size):\n",
    "       \n",
    "        if len(self.memory) < sample_batch_size:\n",
    "            return\n",
    "        \n",
    "        #sample_batch = random.sample(self.memory, sample_batch_size)\n",
    "        state, action, reward, next_state, done = self.pack_K_frames(sample_batch_size)\n",
    "        \n",
    "        #print('State: {}'.format(state.shape))\n",
    "        #print('Action: {}'.format(action.shape))\n",
    "        #print('Reward: {}'.format(reward.shape))\n",
    "        #print('Next_State: {}'.format(next_state.shape))\n",
    "        #print('Done: {}'.format(done.shape))\n",
    "        #input()\n",
    "        #target = reward\n",
    "        predicted = self.brain_target.predict(next_state) #Previsão proximo estado.\n",
    "        target_f = self.brain.predict(state) #Previsão estado atual.\n",
    "        #print('Predicted: {}'.format(predicted))\n",
    "        #print('Predicted[0]: {}'.format(predicted[2]))\n",
    "        #print('Predicted Max: {}'.format(np.amax(predicted)))\n",
    "        #print('Reward: {}'.format(reward))\n",
    "        #print('Target_f: {}'.format(target_f))\n",
    "        #input()\n",
    "        \n",
    "        for i in range(sample_batch_size):\n",
    "            target = reward[i] + (self.gamma * np.amax(predicted[i]) * (1-done[i]))\n",
    "            target_f[i][action[i]] = target\n",
    "            #print('Action: {}'.format(action[i]))\n",
    "            #print('target: {}'.format(target))\n",
    "            #print('target_f: {}'.format(target_f[i]))\n",
    "            #input()\n",
    "            \n",
    "        \n",
    "        #print('Target_f Formatado: {}'.format(target_f))\n",
    "        #input()\n",
    "        history = self.brain.fit(state, target_f, batch_size=sample_batch_size, epochs=1, verbose=0)\n",
    "            \n",
    "        if self.exploration_rate > self.exploration_min:\n",
    "            self.exploration_rate -= self.exploration_decay\n",
    "    \n",
    "        return history, self.exploration_rate\n",
    "\n",
    "    def update_target_model(self, current_frame):\n",
    "        if (current_frame % UPDATE_TARGET_MODEL == 0 and TRAIN and current_frame > OBSERVER):\n",
    "            self.brain_target.set_weights(self.brain.get_weights())\n",
    "            global qntUpdate\n",
    "            qntUpdate+=1\n",
    "            print('-------------------------UPDATED TARGET MODEL({}) ------------------------------'.format(qntUpdate))\n",
    "\n",
    "\n",
    "class Breakout():\n",
    "    \n",
    "    def __init__(self):\n",
    "        self.env = gym.make(game)\n",
    "        self.sample_batch_size          =              experiment_params['sample_batch_size']\n",
    "        self.episodes                   =              experiment_params['episodes']\n",
    "        self.action_size                =              self.env.action_space.n\n",
    "        self.state_size                 =              experiment_params['structure_neural_network']['input_shape']\n",
    "        self.agent                      =              Agent(self.state_size, self.action_size)\n",
    "        self.number_print               =              0\n",
    "        self.best_score                 =              -99999999\n",
    "        self.replay_bestPlay            =              deque(maxlen=300)\n",
    "        self.crop_on_top                =              experiment_params['prune_image']['top']\n",
    "        self.crop_on_bottom             =              experiment_params['prune_image']['bottom'] \n",
    "        self.crop_on_left               =              experiment_params['prune_image']['left']\n",
    "        self.crop_on_right              =              experiment_params['prune_image']['right']\n",
    "        self.frames_skip                =              experiment_params['frames_skip']\n",
    "        self.current_frame              =              0\n",
    "        self.freq_update                =              experiment_params['freq_update_nn']\n",
    "        self.down_sample_of             =              experiment_params['down_sample']\n",
    "        self.canSave                    =              True\n",
    "        self.time_train_init            =              time.time()\n",
    "        self.epochs_to_save_results     =              experiment_params['epochs_to_save_results']\n",
    "        self.frames_in_atual_episode    =              0\n",
    "        self.seconds_in_atual_episode   =              0\n",
    "        \n",
    "        self.initialize_dirs() # If not exist the dirs, this function create.\n",
    "    \n",
    "  \n",
    "    def initialize_dirs(self):\n",
    "        for keys, values in experiment_params['dirs'].items():\n",
    "            \n",
    "            if not os.path.isdir(values):\n",
    "                os.makedirs(values)\n",
    "        \n",
    "    def reset_results(self):\n",
    "        global reward_current_episode, train_current_episode, current_time_episode, average_loss, \\\n",
    "        average_fps_current_episode, current_exploration\n",
    "        \n",
    "        reward_current_episode = []\n",
    "        train_current_episode = []\n",
    "        current_time_episode = []\n",
    "        average_loss = []\n",
    "        average_fps_current_episode = []\n",
    "        current_exploration = []\n",
    "        \n",
    "        \n",
    "    def add_new_result(self, reward, train, time, loss, exploration, fps):\n",
    "        \n",
    "        global reward_current_episode, train_current_episode, current_time_episode, average_loss,  \\\n",
    "        average_fps_current_episode, current_exploration\n",
    "        \n",
    "        reward_current_episode.append(reward)\n",
    "        train_current_episode.append(train)\n",
    "        current_time_episode.append(time)\n",
    "        average_loss.append(loss),\n",
    "        current_exploration.append(exploration)\n",
    "        average_fps_current_episode.append(fps)\n",
    "\n",
    "        \n",
    "        if len(reward_current_episode) >= self.epochs_to_save_results:\n",
    "            print('Saving dataframe results...')\n",
    "            self.save_results()\n",
    "        \n",
    "        \n",
    "    def save_results(self):\n",
    "       global reward_current_episode, train_current_episode, current_time_episode, average_loss, \\\n",
    "       average_fps_current_episode, current_exploration\n",
    "              \n",
    "      \n",
    "       if len(reward_current_episode) <= 0:\n",
    "           return\n",
    "       \n",
    "       df_results = pd.DataFrame({\n",
    "           'REWARD': reward_current_episode,\n",
    "           'TRAIN': train_current_episode,\n",
    "           'TIME': current_time_episode,\n",
    "           'LOSS': average_loss,\n",
    "           'EXPLORATION_RATE': current_exploration,\n",
    "           'FPS': average_fps_current_episode\n",
    "       })\n",
    "       \n",
    "       df_backup = pd.DataFrame()\n",
    "       if os.path.isfile(experiment_params['dirs']['dir_results']+'df_results.csv'):\n",
    "           df_backup = pd.read_csv(experiment_params['dirs']['dir_results']+'df_results.csv')\n",
    "           df_results = pd.concat([df_backup, df_results])\n",
    "           \n",
    "       df_results.to_csv(experiment_params['dirs']['dir_results']+'df_results.csv', index=False)\n",
    "       \n",
    "       self.reset_results()\n",
    "       \n",
    "       \n",
    "    def save_params(self):\n",
    "        with open(experiment_params['dir_annotations_experiments']+'annotations.md', 'w') as f:\n",
    "            f.write(experiment_params)\n",
    "\n",
    "   \n",
    "    def restart_chronometer(self):\n",
    "        self.frames_in_atual_episode=0\n",
    "        self.seconds_in_atual_episode=0\n",
    "    \n",
    "    def get_frames_per_seconds_in_atual_episode(self):\n",
    "        return int(self.frames_in_atual_episode / (time.time() - self.seconds_in_atual_episode))\n",
    "    \n",
    "    def to_gray_scale(self, img):\n",
    "        return 0.299*img[:,:,0] + 0.587*img[:,:,1] + 0.114*img[:,:,2]\n",
    "    \n",
    "    def down_sample(self, img):\n",
    "        return img[::self.down_sample_of,::self.down_sample_of]\n",
    "    \n",
    "    def preprocess_img(self, img):        \n",
    "        new_image = cv2.resize(np.asarray(self.to_gray_scale(self.crop_img(img)) / 255, dtype=np.float32), self.state_size, interpolation=cv2.INTER_AREA)\n",
    "        '''plt.imshow(new_image)\n",
    "        plt.show()\n",
    "        print('Shape: {}'.format(new_image.shape))\n",
    "        input()'''\n",
    "        return new_image\n",
    "        \n",
    "    def crop_img(self, img):\n",
    "        #return img[self.crop_on_top: -self.crop_on_bottom, self.crop_on_border:-self.crop_on_border]\n",
    "        return img[self.crop_on_top:-self.crop_on_bottom, self.crop_on_left:-self.crop_on_right]\n",
    "  \n",
    "    def transform_reward(self, reward):\n",
    "        return np.sign(reward)\n",
    "      \n",
    "    def formatTimeBr(time):\n",
    "        horas = time/3600\n",
    "        minutos = (time%3600)/60\n",
    "        segundos = (time%3600)%60\n",
    "        \n",
    "        return str('{}hr : {}min : {}seg'.format(horas, minutos, segundos))\n",
    "    \n",
    "    def save_image_epoch(self, gif_to_save, epoch, best_current_play=False):\n",
    "        \n",
    "        if best_current_play:\n",
    "            epoch = str(epoch)+'_best'\n",
    "        else:\n",
    "            epoch = str(epoch)\n",
    "        \n",
    "        if (self.canSave and len(gif_to_save) > 0):\n",
    "    \n",
    "            imageio.mimwrite(experiment_params['dirs']['dir_videos']+epoch+'.mp4', gif_to_save , fps = 100)\n",
    "            print('Gif Salvo') \n",
    "            self.canSave = False\n",
    "            \n",
    "            \n",
    "    def run(self):\n",
    "        global total_reward_game\n",
    "\n",
    "        try:\n",
    "            for i_episodes in range(self.episodes):\n",
    "                state = self.env.reset()\n",
    "               \n",
    "                state = self.preprocess_img(state)\n",
    "                \n",
    "                done = False\n",
    "                current_images_episode = []\n",
    "                \n",
    "                total_reward=0\n",
    "                history_list = []\n",
    "                exploration = 1.0\n",
    "                self.seconds_in_atual_episode= time.time()\n",
    "                \n",
    "                while not done:\n",
    "                                        \n",
    "                    #if i_episodes > 600 or not TRAIN:\n",
    "                    #self.env.render()\n",
    "                    action = self.agent.act(state)\n",
    "                    next_state, reward, done, info = self.env.step(action)\n",
    "                    \n",
    "                    reward = np.sign(reward)\n",
    "                    total_reward+=reward\n",
    "           \n",
    "                    next_state = self.preprocess_img(next_state)\n",
    "                    \n",
    "                    current_images_episode.append(next_state)\n",
    "                    \n",
    "                    self.agent.remember(state, action, reward, next_state, done)\n",
    "                    state = next_state\n",
    "                        \n",
    "                    self.current_frame+=1\n",
    "                    self.frames_in_atual_episode+=1\n",
    "                    if TRAIN:\n",
    "                        if self.current_frame > OBSERVER and (self.current_frame % self.frames_skip) == 0:\n",
    "                            history, exploration = self.agent.replay(self.sample_batch_size)\n",
    "                            history_list.append(history.history['loss'])    \n",
    "                        \n",
    "                        self.agent.update_target_model(self.current_frame)\n",
    "    \n",
    "                total_reward_game.append(total_reward)\n",
    "                \n",
    "                \n",
    "                if TRAIN and self.current_frame > OBSERVER:\n",
    "                    if i_episodes % 2 == 0:\n",
    "                        self.canSave=True\n",
    "                        \n",
    "                        self.save_image_epoch( current_images_episode, i_episodes)   \n",
    "                    \n",
    "                    self.add_new_result(total_reward, (self.current_frame / self.frames_skip), time.time(), \n",
    "                                        np.mean(history_list), exploration, self.get_frames_per_seconds_in_atual_episode())\n",
    "                   \n",
    "                    if total_reward > self.best_score and self.current_frame > OBSERVER:\n",
    "                            self.best_score = total_reward\n",
    "                            self.agent.save_model()\n",
    "                            self.save_image_epoch(current_images_episode, i_episodes, best_current_play=True)\n",
    "                            print('Save best current model -> ', end='')\n",
    "                current_images_episode = []\n",
    "                print(\"Episode {}# r: {}# Loss: {:.6} # Train: {} # eps: {:.3}# Space: {}% 'fps: {}:\".format(i_episodes, total_reward, np.mean(history_list), (self.current_frame / self.frames_skip), exploration, round(((len(self.agent.memory) / (tamMemoryK*1000)) * 100), 2), self.get_frames_per_seconds_in_atual_episode() ))\n",
    "                self.restart_chronometer()\n",
    "        finally:\n",
    "            if TRAIN:\n",
    "                self.agent.save_model()\n",
    "                self.save_results()\n",
    "                \n",
    "                \n",
    "            self.env.close()\n",
    "            \n",
    "if __name__ == '__main__':\n",
    "    breakout = Breakout()\n",
    "    breakout.run()"
   ]
  },
  {
   "cell_type": "code",
   "execution_count": null,
   "id": "c0210c0e",
   "metadata": {},
   "outputs": [],
   "source": []
  }
 ],
 "metadata": {
  "kernelspec": {
   "display_name": "Python 3",
   "language": "python",
   "name": "python3"
  },
  "language_info": {
   "codemirror_mode": {
    "name": "ipython",
    "version": 3
   },
   "file_extension": ".py",
   "mimetype": "text/x-python",
   "name": "python",
   "nbconvert_exporter": "python",
   "pygments_lexer": "ipython3",
   "version": "3.6.13"
  }
 },
 "nbformat": 4,
 "nbformat_minor": 5
}
