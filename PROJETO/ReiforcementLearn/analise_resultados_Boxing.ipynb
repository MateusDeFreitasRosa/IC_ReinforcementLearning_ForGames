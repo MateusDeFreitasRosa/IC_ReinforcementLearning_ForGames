{
 "cells": [
  {
   "cell_type": "code",
   "execution_count": 4,
   "id": "11f3dbe8",
   "metadata": {},
   "outputs": [
    {
     "name": "stdout",
     "output_type": "stream",
     "text": [
      "Collecting seaborn\n",
      "  Downloading seaborn-0.11.2-py3-none-any.whl (292 kB)\n",
      "Requirement already satisfied: scipy>=1.0 in c:\\ana\\envs\\reinforcementlearningoldversion\\lib\\site-packages (from seaborn) (1.5.4)\n",
      "Requirement already satisfied: matplotlib>=2.2 in c:\\ana\\envs\\reinforcementlearningoldversion\\lib\\site-packages (from seaborn) (3.3.4)\n",
      "Requirement already satisfied: numpy>=1.15 in c:\\users\\mateus f\\appdata\\roaming\\python\\python36\\site-packages (from seaborn) (1.19.5)\n",
      "Requirement already satisfied: pandas>=0.23 in c:\\ana\\envs\\reinforcementlearningoldversion\\lib\\site-packages (from seaborn) (1.1.5)\n",
      "Requirement already satisfied: pyparsing!=2.0.4,!=2.1.2,!=2.1.6,>=2.0.3 in c:\\ana\\envs\\reinforcementlearningoldversion\\lib\\site-packages (from matplotlib>=2.2->seaborn) (3.0.4)\n",
      "Requirement already satisfied: kiwisolver>=1.0.1 in c:\\ana\\envs\\reinforcementlearningoldversion\\lib\\site-packages (from matplotlib>=2.2->seaborn) (1.3.1)\n",
      "Requirement already satisfied: python-dateutil>=2.1 in c:\\ana\\envs\\reinforcementlearningoldversion\\lib\\site-packages (from matplotlib>=2.2->seaborn) (2.8.2)\n",
      "Requirement already satisfied: pillow>=6.2.0 in c:\\ana\\envs\\reinforcementlearningoldversion\\lib\\site-packages (from matplotlib>=2.2->seaborn) (8.4.0)\n",
      "Requirement already satisfied: cycler>=0.10 in c:\\ana\\envs\\reinforcementlearningoldversion\\lib\\site-packages (from matplotlib>=2.2->seaborn) (0.11.0)\n",
      "Requirement already satisfied: pytz>=2017.2 in c:\\ana\\envs\\reinforcementlearningoldversion\\lib\\site-packages (from pandas>=0.23->seaborn) (2021.3)\n",
      "Requirement already satisfied: six>=1.5 in c:\\users\\mateus f\\appdata\\roaming\\python\\python36\\site-packages (from python-dateutil>=2.1->matplotlib>=2.2->seaborn) (1.16.0)\n",
      "Installing collected packages: seaborn\n",
      "Successfully installed seaborn-0.11.2\n"
     ]
    }
   ],
   "source": [
    "!pip install seaborn"
   ]
  },
  {
   "cell_type": "code",
   "execution_count": 38,
   "id": "31f9108c",
   "metadata": {},
   "outputs": [],
   "source": [
    "import pandas as pd\n",
    "import numpy as np\n",
    "import seaborn as sns\n",
    "import matplotlib.pyplot as plt"
   ]
  },
  {
   "cell_type": "markdown",
   "id": "79740f0c",
   "metadata": {},
   "source": [
    "# Carregamento das bases"
   ]
  },
  {
   "cell_type": "code",
   "execution_count": 23,
   "id": "2632084a",
   "metadata": {
    "scrolled": false
   },
   "outputs": [
    {
     "data": {
      "text/plain": [
       "(991, 7)"
      ]
     },
     "execution_count": 23,
     "metadata": {},
     "output_type": "execute_result"
    }
   ],
   "source": [
    "df_boxing_v1 = pd.read_csv('experiments/Boxing-v1/df_results.csv')\n",
    "df_boxing_v1.shape"
   ]
  },
  {
   "cell_type": "code",
   "execution_count": 24,
   "id": "e6835d05",
   "metadata": {},
   "outputs": [
    {
     "data": {
      "text/plain": [
       "(2949, 7)"
      ]
     },
     "execution_count": 24,
     "metadata": {},
     "output_type": "execute_result"
    }
   ],
   "source": [
    "df_boxing_v2 = pd.read_csv('experiments/Boxing-v2/df_results.csv')\n",
    "df_boxing_v2.shape"
   ]
  },
  {
   "cell_type": "markdown",
   "id": "fabfa30e",
   "metadata": {},
   "source": [
    "# Pré-processamento"
   ]
  },
  {
   "cell_type": "code",
   "execution_count": 43,
   "id": "3dc8e7a3",
   "metadata": {},
   "outputs": [
    {
     "data": {
      "text/html": [
       "<div>\n",
       "<style scoped>\n",
       "    .dataframe tbody tr th:only-of-type {\n",
       "        vertical-align: middle;\n",
       "    }\n",
       "\n",
       "    .dataframe tbody tr th {\n",
       "        vertical-align: top;\n",
       "    }\n",
       "\n",
       "    .dataframe thead th {\n",
       "        text-align: right;\n",
       "    }\n",
       "</style>\n",
       "<table border=\"1\" class=\"dataframe\">\n",
       "  <thead>\n",
       "    <tr style=\"text-align: right;\">\n",
       "      <th></th>\n",
       "      <th>REWARD</th>\n",
       "      <th>TRAIN</th>\n",
       "      <th>TIME</th>\n",
       "      <th>LOSS</th>\n",
       "      <th>EXPLORATION_RATE</th>\n",
       "      <th>FPS</th>\n",
       "      <th>LR</th>\n",
       "      <th>MEAN_REWARDS</th>\n",
       "    </tr>\n",
       "  </thead>\n",
       "  <tbody>\n",
       "    <tr>\n",
       "      <th>0</th>\n",
       "      <td>-4.0</td>\n",
       "      <td>2360.0</td>\n",
       "      <td>1.644937e+09</td>\n",
       "      <td>0.000350</td>\n",
       "      <td>0.97740</td>\n",
       "      <td>16</td>\n",
       "      <td>0.0001</td>\n",
       "      <td>-4.000000</td>\n",
       "    </tr>\n",
       "    <tr>\n",
       "      <th>1</th>\n",
       "      <td>1.0</td>\n",
       "      <td>4764.0</td>\n",
       "      <td>1.644937e+09</td>\n",
       "      <td>0.000285</td>\n",
       "      <td>0.95336</td>\n",
       "      <td>15</td>\n",
       "      <td>0.0001</td>\n",
       "      <td>-1.500000</td>\n",
       "    </tr>\n",
       "    <tr>\n",
       "      <th>2</th>\n",
       "      <td>-5.0</td>\n",
       "      <td>7143.0</td>\n",
       "      <td>1.644937e+09</td>\n",
       "      <td>0.000400</td>\n",
       "      <td>0.92957</td>\n",
       "      <td>15</td>\n",
       "      <td>0.0001</td>\n",
       "      <td>-2.666667</td>\n",
       "    </tr>\n",
       "    <tr>\n",
       "      <th>3</th>\n",
       "      <td>-1.0</td>\n",
       "      <td>9514.0</td>\n",
       "      <td>1.644937e+09</td>\n",
       "      <td>0.000468</td>\n",
       "      <td>0.90586</td>\n",
       "      <td>15</td>\n",
       "      <td>0.0001</td>\n",
       "      <td>-2.250000</td>\n",
       "    </tr>\n",
       "    <tr>\n",
       "      <th>4</th>\n",
       "      <td>1.0</td>\n",
       "      <td>11898.0</td>\n",
       "      <td>1.644938e+09</td>\n",
       "      <td>0.000496</td>\n",
       "      <td>0.88202</td>\n",
       "      <td>15</td>\n",
       "      <td>0.0001</td>\n",
       "      <td>-1.600000</td>\n",
       "    </tr>\n",
       "  </tbody>\n",
       "</table>\n",
       "</div>"
      ],
      "text/plain": [
       "   REWARD    TRAIN          TIME      LOSS  EXPLORATION_RATE  FPS      LR  \\\n",
       "0    -4.0   2360.0  1.644937e+09  0.000350           0.97740   16  0.0001   \n",
       "1     1.0   4764.0  1.644937e+09  0.000285           0.95336   15  0.0001   \n",
       "2    -5.0   7143.0  1.644937e+09  0.000400           0.92957   15  0.0001   \n",
       "3    -1.0   9514.0  1.644937e+09  0.000468           0.90586   15  0.0001   \n",
       "4     1.0  11898.0  1.644938e+09  0.000496           0.88202   15  0.0001   \n",
       "\n",
       "   MEAN_REWARDS  \n",
       "0     -4.000000  \n",
       "1     -1.500000  \n",
       "2     -2.666667  \n",
       "3     -2.250000  \n",
       "4     -1.600000  "
      ]
     },
     "execution_count": 43,
     "metadata": {},
     "output_type": "execute_result"
    }
   ],
   "source": [
    "df_boxing_v1.head()"
   ]
  },
  {
   "cell_type": "markdown",
   "id": "852ac995",
   "metadata": {},
   "source": [
    "### Ajustar informações de recompensas em uma escala mais linear"
   ]
  },
  {
   "cell_type": "code",
   "execution_count": 25,
   "id": "540accb2",
   "metadata": {},
   "outputs": [],
   "source": [
    "def norm(n):\n",
    "    0 if n<0 else n\n",
    "    \n",
    "def mean_reward(df):\n",
    "    mean_rewards_boxing = []\n",
    "    interval=50\n",
    "    for i in range(df.shape[0]):\n",
    "        mean_rewards_boxing.append(df.loc[norm(i-interval):i, 'REWARD'].mean())\n",
    "\n",
    "    df['MEAN_REWARDS'] = mean_rewards_boxing\n",
    "    return df"
   ]
  },
  {
   "cell_type": "code",
   "execution_count": 26,
   "id": "568b810b",
   "metadata": {},
   "outputs": [],
   "source": [
    "df_boxing_v1 = mean_reward(df_boxing_v1)\n",
    "df_boxing_v2 = mean_reward(df_boxing_v2)"
   ]
  },
  {
   "cell_type": "code",
   "execution_count": 27,
   "id": "7193b83a",
   "metadata": {},
   "outputs": [
    {
     "name": "stdout",
     "output_type": "stream",
     "text": [
      "Tempo - Experimento v1 variável: 36.65823232816325 / horas\n",
      "Tempo - Experimento v2 variável: 95.084112560153 / horas\n"
     ]
    }
   ],
   "source": [
    "# Tempo gasto para os experimentos.\n",
    "\n",
    "print('Tempo - Experimento v1 variável: {} / horas'.format( (df_boxing_v1['TIME'].iloc[-1] - df_boxing_v1['TIME'].iloc[0]) / (60*60) ))\n",
    "print('Tempo - Experimento v2 variável: {} / horas'.format( (df_boxing_v2['TIME'].iloc[-1] - df_boxing_v2['TIME'].iloc[0]) / (60*60) ))"
   ]
  },
  {
   "cell_type": "code",
   "execution_count": 41,
   "id": "00043738",
   "metadata": {},
   "outputs": [
    {
     "data": {
      "text/plain": [
       "<AxesSubplot:xlabel='TRAIN', ylabel='MEAN_REWARDS'>"
      ]
     },
     "execution_count": 41,
     "metadata": {},
     "output_type": "execute_result"
    },
    {
     "data": {
      "image/png": "[encoded data removed]",
      "text/plain": [
       "<Figure size 720x360 with 1 Axes>"
      ]
     },
     "metadata": {
      "needs_background": "light"
     },
     "output_type": "display_data"
    }
   ],
   "source": [
    "plt.figure(figsize=(10, 5))\n",
    "sns.lineplot(data=df_boxing_v1, x='TRAIN', y='MEAN_REWARDS')"
   ]
  },
  {
   "cell_type": "code",
   "execution_count": 42,
   "id": "f70643ea",
   "metadata": {},
   "outputs": [
    {
     "data": {
      "text/plain": [
       "<AxesSubplot:xlabel='TRAIN', ylabel='MEAN_REWARDS'>"
      ]
     },
     "execution_count": 42,
     "metadata": {},
     "output_type": "execute_result"
    },
    {
     "data": {
      "image/png": "[encoded data removed]",
      "text/plain": [
       "<Figure size 720x360 with 1 Axes>"
      ]
     },
     "metadata": {
      "needs_background": "light"
     },
     "output_type": "display_data"
    }
   ],
   "source": [
    "plt.figure(figsize=(10, 5))\n",
    "sns.lineplot(data=df_boxing_v2, x='TRAIN', y='MEAN_REWARDS')"
   ]
  },
  {
   "cell_type": "code",
   "execution_count": null,
   "id": "37ba36d9",
   "metadata": {},
   "outputs": [],
   "source": []
  }
 ],
 "metadata": {
  "kernelspec": {
   "display_name": "Python 3",
   "language": "python",
   "name": "python3"
  },
  "language_info": {
   "codemirror_mode": {
    "name": "ipython",
    "version": 3
   },
   "file_extension": ".py",
   "mimetype": "text/x-python",
   "name": "python",
   "nbconvert_exporter": "python",
   "pygments_lexer": "ipython3",
   "version": "3.6.13"
  }
 },
 "nbformat": 4,
 "nbformat_minor": 5
}
